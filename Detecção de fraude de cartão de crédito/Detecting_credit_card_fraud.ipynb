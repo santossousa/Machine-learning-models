{
  "cells": [
    {
      "cell_type": "code",
      "execution_count": 92,
      "metadata": {
        "id": "UZuWGpbYIa2R"
      },
      "outputs": [],
      "source": [
        "import numpy as np \n",
        "import pandas as pd \n",
        "import seaborn as sns\n",
        "import matplotlib.pyplot as plt\n",
        "from sklearn.model_selection import train_test_split\n",
        "from sklearn.ensemble import RandomForestClassifier\n",
        "from sklearn.metrics import precision_score, recall_score, f1_score, confusion_matrix\n",
        "from sklearn.linear_model import LogisticRegression\n",
        "from sklearn.metrics import classification_report\n",
        "from imblearn.over_sampling import SMOTE\n",
        "from tensorflow.keras.models import Sequential\n",
        "from tensorflow.keras.layers import add, Dense, Dropout\n",
        "from tensorflow.keras.optimizers import Adam\n"
      ]
    },
    {
      "cell_type": "code",
      "execution_count": 93,
      "metadata": {
        "id": "WcRFloSkvRsl"
      },
      "outputs": [],
      "source": [
        "data = pd.read_csv(\"/content/creditcard.csv\")"
      ]
    },
    {
      "cell_type": "code",
      "execution_count": 94,
      "metadata": {
        "colab": {
          "base_uri": "https://localhost:8080/",
          "height": 236
        },
        "id": "XHTG3zhGvbR5",
        "outputId": "ca537096-0e03-43f2-9b6a-681b675c1ab1"
      },
      "outputs": [
        {
          "data": {
            "text/html": [
              "\n",
              "  <div id=\"df-3312a149-a793-4ce6-9203-94cab04a5f55\">\n",
              "    <div class=\"colab-df-container\">\n",
              "      <div>\n",
              "<style scoped>\n",
              "    .dataframe tbody tr th:only-of-type {\n",
              "        vertical-align: middle;\n",
              "    }\n",
              "\n",
              "    .dataframe tbody tr th {\n",
              "        vertical-align: top;\n",
              "    }\n",
              "\n",
              "    .dataframe thead th {\n",
              "        text-align: right;\n",
              "    }\n",
              "</style>\n",
              "<table border=\"1\" class=\"dataframe\">\n",
              "  <thead>\n",
              "    <tr style=\"text-align: right;\">\n",
              "      <th></th>\n",
              "      <th>Time</th>\n",
              "      <th>V1</th>\n",
              "      <th>V2</th>\n",
              "      <th>V3</th>\n",
              "      <th>V4</th>\n",
              "      <th>V5</th>\n",
              "      <th>V6</th>\n",
              "      <th>V7</th>\n",
              "      <th>V8</th>\n",
              "      <th>V9</th>\n",
              "      <th>...</th>\n",
              "      <th>V21</th>\n",
              "      <th>V22</th>\n",
              "      <th>V23</th>\n",
              "      <th>V24</th>\n",
              "      <th>V25</th>\n",
              "      <th>V26</th>\n",
              "      <th>V27</th>\n",
              "      <th>V28</th>\n",
              "      <th>Amount</th>\n",
              "      <th>Class</th>\n",
              "    </tr>\n",
              "  </thead>\n",
              "  <tbody>\n",
              "    <tr>\n",
              "      <th>0</th>\n",
              "      <td>0</td>\n",
              "      <td>-1.359807</td>\n",
              "      <td>-0.072781</td>\n",
              "      <td>2.536347</td>\n",
              "      <td>1.378155</td>\n",
              "      <td>-0.338321</td>\n",
              "      <td>0.462388</td>\n",
              "      <td>0.239599</td>\n",
              "      <td>0.098698</td>\n",
              "      <td>0.363787</td>\n",
              "      <td>...</td>\n",
              "      <td>-0.018307</td>\n",
              "      <td>0.277838</td>\n",
              "      <td>-0.110474</td>\n",
              "      <td>0.066928</td>\n",
              "      <td>0.128539</td>\n",
              "      <td>-0.189115</td>\n",
              "      <td>0.133558</td>\n",
              "      <td>-0.021053</td>\n",
              "      <td>149.62</td>\n",
              "      <td>0.0</td>\n",
              "    </tr>\n",
              "    <tr>\n",
              "      <th>1</th>\n",
              "      <td>0</td>\n",
              "      <td>1.191857</td>\n",
              "      <td>0.266151</td>\n",
              "      <td>0.166480</td>\n",
              "      <td>0.448154</td>\n",
              "      <td>0.060018</td>\n",
              "      <td>-0.082361</td>\n",
              "      <td>-0.078803</td>\n",
              "      <td>0.085102</td>\n",
              "      <td>-0.255425</td>\n",
              "      <td>...</td>\n",
              "      <td>-0.225775</td>\n",
              "      <td>-0.638672</td>\n",
              "      <td>0.101288</td>\n",
              "      <td>-0.339846</td>\n",
              "      <td>0.167170</td>\n",
              "      <td>0.125895</td>\n",
              "      <td>-0.008983</td>\n",
              "      <td>0.014724</td>\n",
              "      <td>2.69</td>\n",
              "      <td>0.0</td>\n",
              "    </tr>\n",
              "    <tr>\n",
              "      <th>2</th>\n",
              "      <td>1</td>\n",
              "      <td>-1.358354</td>\n",
              "      <td>-1.340163</td>\n",
              "      <td>1.773209</td>\n",
              "      <td>0.379780</td>\n",
              "      <td>-0.503198</td>\n",
              "      <td>1.800499</td>\n",
              "      <td>0.791461</td>\n",
              "      <td>0.247676</td>\n",
              "      <td>-1.514654</td>\n",
              "      <td>...</td>\n",
              "      <td>0.247998</td>\n",
              "      <td>0.771679</td>\n",
              "      <td>0.909412</td>\n",
              "      <td>-0.689281</td>\n",
              "      <td>-0.327642</td>\n",
              "      <td>-0.139097</td>\n",
              "      <td>-0.055353</td>\n",
              "      <td>-0.059752</td>\n",
              "      <td>378.66</td>\n",
              "      <td>0.0</td>\n",
              "    </tr>\n",
              "    <tr>\n",
              "      <th>3</th>\n",
              "      <td>1</td>\n",
              "      <td>-0.966272</td>\n",
              "      <td>-0.185226</td>\n",
              "      <td>1.792993</td>\n",
              "      <td>-0.863291</td>\n",
              "      <td>-0.010309</td>\n",
              "      <td>1.247203</td>\n",
              "      <td>0.237609</td>\n",
              "      <td>0.377436</td>\n",
              "      <td>-1.387024</td>\n",
              "      <td>...</td>\n",
              "      <td>-0.108300</td>\n",
              "      <td>0.005274</td>\n",
              "      <td>-0.190321</td>\n",
              "      <td>-1.175575</td>\n",
              "      <td>0.647376</td>\n",
              "      <td>-0.221929</td>\n",
              "      <td>0.062723</td>\n",
              "      <td>0.061458</td>\n",
              "      <td>123.50</td>\n",
              "      <td>0.0</td>\n",
              "    </tr>\n",
              "    <tr>\n",
              "      <th>4</th>\n",
              "      <td>2</td>\n",
              "      <td>-1.158233</td>\n",
              "      <td>0.877737</td>\n",
              "      <td>1.548718</td>\n",
              "      <td>0.403034</td>\n",
              "      <td>-0.407193</td>\n",
              "      <td>0.095921</td>\n",
              "      <td>0.592941</td>\n",
              "      <td>-0.270533</td>\n",
              "      <td>0.817739</td>\n",
              "      <td>...</td>\n",
              "      <td>-0.009431</td>\n",
              "      <td>0.798278</td>\n",
              "      <td>-0.137458</td>\n",
              "      <td>0.141267</td>\n",
              "      <td>-0.206010</td>\n",
              "      <td>0.502292</td>\n",
              "      <td>0.219422</td>\n",
              "      <td>0.215153</td>\n",
              "      <td>69.99</td>\n",
              "      <td>0.0</td>\n",
              "    </tr>\n",
              "  </tbody>\n",
              "</table>\n",
              "<p>5 rows × 31 columns</p>\n",
              "</div>\n",
              "      <button class=\"colab-df-convert\" onclick=\"convertToInteractive('df-3312a149-a793-4ce6-9203-94cab04a5f55')\"\n",
              "              title=\"Convert this dataframe to an interactive table.\"\n",
              "              style=\"display:none;\">\n",
              "        \n",
              "  <svg xmlns=\"http://www.w3.org/2000/svg\" height=\"24px\"viewBox=\"0 0 24 24\"\n",
              "       width=\"24px\">\n",
              "    <path d=\"M0 0h24v24H0V0z\" fill=\"none\"/>\n",
              "    <path d=\"M18.56 5.44l.94 2.06.94-2.06 2.06-.94-2.06-.94-.94-2.06-.94 2.06-2.06.94zm-11 1L8.5 8.5l.94-2.06 2.06-.94-2.06-.94L8.5 2.5l-.94 2.06-2.06.94zm10 10l.94 2.06.94-2.06 2.06-.94-2.06-.94-.94-2.06-.94 2.06-2.06.94z\"/><path d=\"M17.41 7.96l-1.37-1.37c-.4-.4-.92-.59-1.43-.59-.52 0-1.04.2-1.43.59L10.3 9.45l-7.72 7.72c-.78.78-.78 2.05 0 2.83L4 21.41c.39.39.9.59 1.41.59.51 0 1.02-.2 1.41-.59l7.78-7.78 2.81-2.81c.8-.78.8-2.07 0-2.86zM5.41 20L4 18.59l7.72-7.72 1.47 1.35L5.41 20z\"/>\n",
              "  </svg>\n",
              "      </button>\n",
              "      \n",
              "  <style>\n",
              "    .colab-df-container {\n",
              "      display:flex;\n",
              "      flex-wrap:wrap;\n",
              "      gap: 12px;\n",
              "    }\n",
              "\n",
              "    .colab-df-convert {\n",
              "      background-color: #E8F0FE;\n",
              "      border: none;\n",
              "      border-radius: 50%;\n",
              "      cursor: pointer;\n",
              "      display: none;\n",
              "      fill: #1967D2;\n",
              "      height: 32px;\n",
              "      padding: 0 0 0 0;\n",
              "      width: 32px;\n",
              "    }\n",
              "\n",
              "    .colab-df-convert:hover {\n",
              "      background-color: #E2EBFA;\n",
              "      box-shadow: 0px 1px 2px rgba(60, 64, 67, 0.3), 0px 1px 3px 1px rgba(60, 64, 67, 0.15);\n",
              "      fill: #174EA6;\n",
              "    }\n",
              "\n",
              "    [theme=dark] .colab-df-convert {\n",
              "      background-color: #3B4455;\n",
              "      fill: #D2E3FC;\n",
              "    }\n",
              "\n",
              "    [theme=dark] .colab-df-convert:hover {\n",
              "      background-color: #434B5C;\n",
              "      box-shadow: 0px 1px 3px 1px rgba(0, 0, 0, 0.15);\n",
              "      filter: drop-shadow(0px 1px 2px rgba(0, 0, 0, 0.3));\n",
              "      fill: #FFFFFF;\n",
              "    }\n",
              "  </style>\n",
              "\n",
              "      <script>\n",
              "        const buttonEl =\n",
              "          document.querySelector('#df-3312a149-a793-4ce6-9203-94cab04a5f55 button.colab-df-convert');\n",
              "        buttonEl.style.display =\n",
              "          google.colab.kernel.accessAllowed ? 'block' : 'none';\n",
              "\n",
              "        async function convertToInteractive(key) {\n",
              "          const element = document.querySelector('#df-3312a149-a793-4ce6-9203-94cab04a5f55');\n",
              "          const dataTable =\n",
              "            await google.colab.kernel.invokeFunction('convertToInteractive',\n",
              "                                                     [key], {});\n",
              "          if (!dataTable) return;\n",
              "\n",
              "          const docLinkHtml = 'Like what you see? Visit the ' +\n",
              "            '<a target=\"_blank\" href=https://colab.research.google.com/notebooks/data_table.ipynb>data table notebook</a>'\n",
              "            + ' to learn more about interactive tables.';\n",
              "          element.innerHTML = '';\n",
              "          dataTable['output_type'] = 'display_data';\n",
              "          await google.colab.output.renderOutput(dataTable, element);\n",
              "          const docLink = document.createElement('div');\n",
              "          docLink.innerHTML = docLinkHtml;\n",
              "          element.appendChild(docLink);\n",
              "        }\n",
              "      </script>\n",
              "    </div>\n",
              "  </div>\n",
              "  "
            ],
            "text/plain": [
              "   Time        V1        V2        V3        V4        V5        V6        V7  \\\n",
              "0     0 -1.359807 -0.072781  2.536347  1.378155 -0.338321  0.462388  0.239599   \n",
              "1     0  1.191857  0.266151  0.166480  0.448154  0.060018 -0.082361 -0.078803   \n",
              "2     1 -1.358354 -1.340163  1.773209  0.379780 -0.503198  1.800499  0.791461   \n",
              "3     1 -0.966272 -0.185226  1.792993 -0.863291 -0.010309  1.247203  0.237609   \n",
              "4     2 -1.158233  0.877737  1.548718  0.403034 -0.407193  0.095921  0.592941   \n",
              "\n",
              "         V8        V9  ...       V21       V22       V23       V24       V25  \\\n",
              "0  0.098698  0.363787  ... -0.018307  0.277838 -0.110474  0.066928  0.128539   \n",
              "1  0.085102 -0.255425  ... -0.225775 -0.638672  0.101288 -0.339846  0.167170   \n",
              "2  0.247676 -1.514654  ...  0.247998  0.771679  0.909412 -0.689281 -0.327642   \n",
              "3  0.377436 -1.387024  ... -0.108300  0.005274 -0.190321 -1.175575  0.647376   \n",
              "4 -0.270533  0.817739  ... -0.009431  0.798278 -0.137458  0.141267 -0.206010   \n",
              "\n",
              "        V26       V27       V28  Amount  Class  \n",
              "0 -0.189115  0.133558 -0.021053  149.62    0.0  \n",
              "1  0.125895 -0.008983  0.014724    2.69    0.0  \n",
              "2 -0.139097 -0.055353 -0.059752  378.66    0.0  \n",
              "3 -0.221929  0.062723  0.061458  123.50    0.0  \n",
              "4  0.502292  0.219422  0.215153   69.99    0.0  \n",
              "\n",
              "[5 rows x 31 columns]"
            ]
          },
          "execution_count": 94,
          "metadata": {},
          "output_type": "execute_result"
        }
      ],
      "source": [
        "data.head()"
      ]
    },
    {
      "cell_type": "code",
      "execution_count": 95,
      "metadata": {
        "colab": {
          "base_uri": "https://localhost:8080/"
        },
        "id": "g0qJbGgWwn6x",
        "outputId": "4bbf3884-f800-47d4-81c5-2d2e46034ed3"
      },
      "outputs": [
        {
          "data": {
            "text/plain": [
              "(43664, 31)"
            ]
          },
          "execution_count": 95,
          "metadata": {},
          "output_type": "execute_result"
        }
      ],
      "source": [
        "data.shape"
      ]
    },
    {
      "cell_type": "code",
      "execution_count": 96,
      "metadata": {
        "colab": {
          "base_uri": "https://localhost:8080/",
          "height": 446
        },
        "id": "LsQqjxgCwvfd",
        "outputId": "91a35ed7-5e11-4796-9d16-fb893f356fad"
      },
      "outputs": [
        {
          "data": {
            "text/plain": [
              "0.0    43529\n",
              "1.0      134\n",
              "Name: Class, dtype: int64"
            ]
          },
          "execution_count": 96,
          "metadata": {},
          "output_type": "execute_result"
        },
        {
          "data": {
            "image/png": "[encoded data removed]",
            "text/plain": [
              "<Figure size 576x432 with 1 Axes>"
            ]
          },
          "metadata": {
            "needs_background": "light"
          },
          "output_type": "display_data"
        }
      ],
      "source": [
        "sns.countplot(x=data['Class'])\n",
        "data[\"Class\"].value_counts()"
      ]
    },
    {
      "cell_type": "code",
      "execution_count": 97,
      "metadata": {
        "colab": {
          "base_uri": "https://localhost:8080/",
          "height": 428
        },
        "id": "WwZE3spyxEx9",
        "outputId": "f1b1dee5-0bec-4e6f-9877-e0a4ae30f697"
      },
      "outputs": [
        {
          "data": {
            "text/plain": [
              "<matplotlib.collections.PathCollection at 0x7f24e0959f90>"
            ]
          },
          "execution_count": 97,
          "metadata": {},
          "output_type": "execute_result"
        },
        {
          "data": {
            "image/png": "[encoded data removed]",
            "text/plain": [
              "<Figure size 576x432 with 1 Axes>"
            ]
          },
          "metadata": {
            "needs_background": "light"
          },
          "output_type": "display_data"
        }
      ],
      "source": [
        "plt.rcParams[\"figure.figsize\"] = \"8,6\"\n",
        "font = {'size': 12}\n",
        "plt.rc('font', **font)\n",
        "\n",
        "plt.title(\"Distribution of Amount over Both Classes\")\n",
        "plt.xlabel(\"Amount\")\n",
        "plt.ylabel(\"Class\")\n",
        "\n",
        "plt.scatter(data[\"Amount\"],data[\"Class\"])"
      ]
    },
    {
      "cell_type": "code",
      "execution_count": 98,
      "metadata": {
        "colab": {
          "base_uri": "https://localhost:8080/",
          "height": 428
        },
        "id": "PG8EqSuuy0Tp",
        "outputId": "cd882b14-ec6f-4aa5-ecfe-e8d0931430f9"
      },
      "outputs": [
        {
          "data": {
            "text/plain": [
              "<matplotlib.collections.PathCollection at 0x7f24e08d0d90>"
            ]
          },
          "execution_count": 98,
          "metadata": {},
          "output_type": "execute_result"
        },
        {
          "data": {
            "image/png": "[encoded data removed]",
            "text/plain": [
              "<Figure size 576x432 with 1 Axes>"
            ]
          },
          "metadata": {
            "needs_background": "light"
          },
          "output_type": "display_data"
        }
      ],
      "source": [
        "plt.rcParams[\"figure.figsize\"] = \"8,6\"\n",
        "font = {'size': 12}\n",
        "plt.rc('font', **font)\n",
        "\n",
        "plt.title(\"Distribution of Time over Both Classes\")\n",
        "plt.xlabel(\"Time\")\n",
        "plt.ylabel(\"Class\")\n",
        "\n",
        "plt.scatter(data[\"Time\"],data[\"Class\"])"
      ]
    },
    {
      "cell_type": "code",
      "execution_count": 99,
      "metadata": {
        "colab": {
          "base_uri": "https://localhost:8080/",
          "height": 923
        },
        "id": "w0_XtsLmzDKB",
        "outputId": "38128b5d-febb-4685-d800-75364de596ae"
      },
      "outputs": [
        {
          "data": {
            "text/plain": [
              "<matplotlib.axes._subplots.AxesSubplot at 0x7f24e088b750>"
            ]
          },
          "execution_count": 99,
          "metadata": {},
          "output_type": "execute_result"
        },
        {
          "data": {
            "image/png": "[encoded data removed]",
            "text/plain": [
              "<Figure size 1080x1080 with 2 Axes>"
            ]
          },
          "metadata": {
            "needs_background": "light"
          },
          "output_type": "display_data"
        }
      ],
      "source": [
        "correlation = data.corr()\n",
        "fig = plt.subplots(figsize=(15,15)) \n",
        "sns.heatmap(correlation, vmax= 1 )"
      ]
    },
    {
      "cell_type": "code",
      "execution_count": 100,
      "metadata": {
        "id": "b824BYMK4pz_"
      },
      "outputs": [],
      "source": [
        "from sklearn.preprocessing import StandardScaler"
      ]
    },
    {
      "cell_type": "code",
      "execution_count": 101,
      "metadata": {
        "id": "D5Z3B3n74sdG"
      },
      "outputs": [],
      "source": [
        "scaler = StandardScaler()\n"
      ]
    },
    {
      "cell_type": "code",
      "execution_count": 102,
      "metadata": {
        "id": "slwfb21k30d5"
      },
      "outputs": [],
      "source": [
        "data_clean = data.copy()"
      ]
    },
    {
      "cell_type": "code",
      "execution_count": 103,
      "metadata": {
        "id": "l0RVHA3Mzbat"
      },
      "outputs": [],
      "source": [
        "data_clean['Scaler_amount'] = scaler.fit_transform(data_clean['Amount'].values.reshape(-1, 1))\n",
        "data_clean['Scaler_time'] = scaler.fit_transform(data_clean['Time'].values.reshape(-1, 1))"
      ]
    },
    {
      "cell_type": "code",
      "execution_count": 104,
      "metadata": {
        "id": "tnYV-OhN5LUa"
      },
      "outputs": [],
      "source": [
        "data_clean.drop(['Time','Amount'], axis = 1, inplace = True)"
      ]
    },
    {
      "cell_type": "code",
      "execution_count": 105,
      "metadata": {
        "colab": {
          "base_uri": "https://localhost:8080/",
          "height": 280
        },
        "id": "C2Rr5WKT5o39",
        "outputId": "c6630b9f-88da-4927-ba83-df3c04eeede6"
      },
      "outputs": [
        {
          "data": {
            "text/html": [
              "\n",
              "  <div id=\"df-a6cf1094-bcf4-4c7a-a009-e32e210a8882\">\n",
              "    <div class=\"colab-df-container\">\n",
              "      <div>\n",
              "<style scoped>\n",
              "    .dataframe tbody tr th:only-of-type {\n",
              "        vertical-align: middle;\n",
              "    }\n",
              "\n",
              "    .dataframe tbody tr th {\n",
              "        vertical-align: top;\n",
              "    }\n",
              "\n",
              "    .dataframe thead th {\n",
              "        text-align: right;\n",
              "    }\n",
              "</style>\n",
              "<table border=\"1\" class=\"dataframe\">\n",
              "  <thead>\n",
              "    <tr style=\"text-align: right;\">\n",
              "      <th></th>\n",
              "      <th>V1</th>\n",
              "      <th>V2</th>\n",
              "      <th>V3</th>\n",
              "      <th>V4</th>\n",
              "      <th>V5</th>\n",
              "      <th>V6</th>\n",
              "      <th>V7</th>\n",
              "      <th>V8</th>\n",
              "      <th>V9</th>\n",
              "      <th>V10</th>\n",
              "      <th>...</th>\n",
              "      <th>V22</th>\n",
              "      <th>V23</th>\n",
              "      <th>V24</th>\n",
              "      <th>V25</th>\n",
              "      <th>V26</th>\n",
              "      <th>V27</th>\n",
              "      <th>V28</th>\n",
              "      <th>Class</th>\n",
              "      <th>Scaler_amount</th>\n",
              "      <th>Scaler_time</th>\n",
              "    </tr>\n",
              "  </thead>\n",
              "  <tbody>\n",
              "    <tr>\n",
              "      <th>0</th>\n",
              "      <td>-1.359807</td>\n",
              "      <td>-0.072781</td>\n",
              "      <td>2.536347</td>\n",
              "      <td>1.378155</td>\n",
              "      <td>-0.338321</td>\n",
              "      <td>0.462388</td>\n",
              "      <td>0.239599</td>\n",
              "      <td>0.098698</td>\n",
              "      <td>0.363787</td>\n",
              "      <td>0.090794</td>\n",
              "      <td>...</td>\n",
              "      <td>0.277838</td>\n",
              "      <td>-0.110474</td>\n",
              "      <td>0.066928</td>\n",
              "      <td>0.128539</td>\n",
              "      <td>-0.189115</td>\n",
              "      <td>0.133558</td>\n",
              "      <td>-0.021053</td>\n",
              "      <td>0.0</td>\n",
              "      <td>0.248726</td>\n",
              "      <td>-2.098211</td>\n",
              "    </tr>\n",
              "    <tr>\n",
              "      <th>1</th>\n",
              "      <td>1.191857</td>\n",
              "      <td>0.266151</td>\n",
              "      <td>0.166480</td>\n",
              "      <td>0.448154</td>\n",
              "      <td>0.060018</td>\n",
              "      <td>-0.082361</td>\n",
              "      <td>-0.078803</td>\n",
              "      <td>0.085102</td>\n",
              "      <td>-0.255425</td>\n",
              "      <td>-0.166974</td>\n",
              "      <td>...</td>\n",
              "      <td>-0.638672</td>\n",
              "      <td>0.101288</td>\n",
              "      <td>-0.339846</td>\n",
              "      <td>0.167170</td>\n",
              "      <td>0.125895</td>\n",
              "      <td>-0.008983</td>\n",
              "      <td>0.014724</td>\n",
              "      <td>0.0</td>\n",
              "      <td>-0.367490</td>\n",
              "      <td>-2.098211</td>\n",
              "    </tr>\n",
              "    <tr>\n",
              "      <th>2</th>\n",
              "      <td>-1.358354</td>\n",
              "      <td>-1.340163</td>\n",
              "      <td>1.773209</td>\n",
              "      <td>0.379780</td>\n",
              "      <td>-0.503198</td>\n",
              "      <td>1.800499</td>\n",
              "      <td>0.791461</td>\n",
              "      <td>0.247676</td>\n",
              "      <td>-1.514654</td>\n",
              "      <td>0.207643</td>\n",
              "      <td>...</td>\n",
              "      <td>0.771679</td>\n",
              "      <td>0.909412</td>\n",
              "      <td>-0.689281</td>\n",
              "      <td>-0.327642</td>\n",
              "      <td>-0.139097</td>\n",
              "      <td>-0.055353</td>\n",
              "      <td>-0.059752</td>\n",
              "      <td>0.0</td>\n",
              "      <td>1.209306</td>\n",
              "      <td>-2.098133</td>\n",
              "    </tr>\n",
              "    <tr>\n",
              "      <th>3</th>\n",
              "      <td>-0.966272</td>\n",
              "      <td>-0.185226</td>\n",
              "      <td>1.792993</td>\n",
              "      <td>-0.863291</td>\n",
              "      <td>-0.010309</td>\n",
              "      <td>1.247203</td>\n",
              "      <td>0.237609</td>\n",
              "      <td>0.377436</td>\n",
              "      <td>-1.387024</td>\n",
              "      <td>-0.054952</td>\n",
              "      <td>...</td>\n",
              "      <td>0.005274</td>\n",
              "      <td>-0.190321</td>\n",
              "      <td>-1.175575</td>\n",
              "      <td>0.647376</td>\n",
              "      <td>-0.221929</td>\n",
              "      <td>0.062723</td>\n",
              "      <td>0.061458</td>\n",
              "      <td>0.0</td>\n",
              "      <td>0.139180</td>\n",
              "      <td>-2.098133</td>\n",
              "    </tr>\n",
              "    <tr>\n",
              "      <th>4</th>\n",
              "      <td>-1.158233</td>\n",
              "      <td>0.877737</td>\n",
              "      <td>1.548718</td>\n",
              "      <td>0.403034</td>\n",
              "      <td>-0.407193</td>\n",
              "      <td>0.095921</td>\n",
              "      <td>0.592941</td>\n",
              "      <td>-0.270533</td>\n",
              "      <td>0.817739</td>\n",
              "      <td>0.753074</td>\n",
              "      <td>...</td>\n",
              "      <td>0.798278</td>\n",
              "      <td>-0.137458</td>\n",
              "      <td>0.141267</td>\n",
              "      <td>-0.206010</td>\n",
              "      <td>0.502292</td>\n",
              "      <td>0.219422</td>\n",
              "      <td>0.215153</td>\n",
              "      <td>0.0</td>\n",
              "      <td>-0.085237</td>\n",
              "      <td>-2.098055</td>\n",
              "    </tr>\n",
              "  </tbody>\n",
              "</table>\n",
              "<p>5 rows × 31 columns</p>\n",
              "</div>\n",
              "      <button class=\"colab-df-convert\" onclick=\"convertToInteractive('df-a6cf1094-bcf4-4c7a-a009-e32e210a8882')\"\n",
              "              title=\"Convert this dataframe to an interactive table.\"\n",
              "              style=\"display:none;\">\n",
              "        \n",
              "  <svg xmlns=\"http://www.w3.org/2000/svg\" height=\"24px\"viewBox=\"0 0 24 24\"\n",
              "       width=\"24px\">\n",
              "    <path d=\"M0 0h24v24H0V0z\" fill=\"none\"/>\n",
              "    <path d=\"M18.56 5.44l.94 2.06.94-2.06 2.06-.94-2.06-.94-.94-2.06-.94 2.06-2.06.94zm-11 1L8.5 8.5l.94-2.06 2.06-.94-2.06-.94L8.5 2.5l-.94 2.06-2.06.94zm10 10l.94 2.06.94-2.06 2.06-.94-2.06-.94-.94-2.06-.94 2.06-2.06.94z\"/><path d=\"M17.41 7.96l-1.37-1.37c-.4-.4-.92-.59-1.43-.59-.52 0-1.04.2-1.43.59L10.3 9.45l-7.72 7.72c-.78.78-.78 2.05 0 2.83L4 21.41c.39.39.9.59 1.41.59.51 0 1.02-.2 1.41-.59l7.78-7.78 2.81-2.81c.8-.78.8-2.07 0-2.86zM5.41 20L4 18.59l7.72-7.72 1.47 1.35L5.41 20z\"/>\n",
              "  </svg>\n",
              "      </button>\n",
              "      \n",
              "  <style>\n",
              "    .colab-df-container {\n",
              "      display:flex;\n",
              "      flex-wrap:wrap;\n",
              "      gap: 12px;\n",
              "    }\n",
              "\n",
              "    .colab-df-convert {\n",
              "      background-color: #E8F0FE;\n",
              "      border: none;\n",
              "      border-radius: 50%;\n",
              "      cursor: pointer;\n",
              "      display: none;\n",
              "      fill: #1967D2;\n",
              "      height: 32px;\n",
              "      padding: 0 0 0 0;\n",
              "      width: 32px;\n",
              "    }\n",
              "\n",
              "    .colab-df-convert:hover {\n",
              "      background-color: #E2EBFA;\n",
              "      box-shadow: 0px 1px 2px rgba(60, 64, 67, 0.3), 0px 1px 3px 1px rgba(60, 64, 67, 0.15);\n",
              "      fill: #174EA6;\n",
              "    }\n",
              "\n",
              "    [theme=dark] .colab-df-convert {\n",
              "      background-color: #3B4455;\n",
              "      fill: #D2E3FC;\n",
              "    }\n",
              "\n",
              "    [theme=dark] .colab-df-convert:hover {\n",
              "      background-color: #434B5C;\n",
              "      box-shadow: 0px 1px 3px 1px rgba(0, 0, 0, 0.15);\n",
              "      filter: drop-shadow(0px 1px 2px rgba(0, 0, 0, 0.3));\n",
              "      fill: #FFFFFF;\n",
              "    }\n",
              "  </style>\n",
              "\n",
              "      <script>\n",
              "        const buttonEl =\n",
              "          document.querySelector('#df-a6cf1094-bcf4-4c7a-a009-e32e210a8882 button.colab-df-convert');\n",
              "        buttonEl.style.display =\n",
              "          google.colab.kernel.accessAllowed ? 'block' : 'none';\n",
              "\n",
              "        async function convertToInteractive(key) {\n",
              "          const element = document.querySelector('#df-a6cf1094-bcf4-4c7a-a009-e32e210a8882');\n",
              "          const dataTable =\n",
              "            await google.colab.kernel.invokeFunction('convertToInteractive',\n",
              "                                                     [key], {});\n",
              "          if (!dataTable) return;\n",
              "\n",
              "          const docLinkHtml = 'Like what you see? Visit the ' +\n",
              "            '<a target=\"_blank\" href=https://colab.research.google.com/notebooks/data_table.ipynb>data table notebook</a>'\n",
              "            + ' to learn more about interactive tables.';\n",
              "          element.innerHTML = '';\n",
              "          dataTable['output_type'] = 'display_data';\n",
              "          await google.colab.output.renderOutput(dataTable, element);\n",
              "          const docLink = document.createElement('div');\n",
              "          docLink.innerHTML = docLinkHtml;\n",
              "          element.appendChild(docLink);\n",
              "        }\n",
              "      </script>\n",
              "    </div>\n",
              "  </div>\n",
              "  "
            ],
            "text/plain": [
              "         V1        V2        V3        V4        V5        V6        V7  \\\n",
              "0 -1.359807 -0.072781  2.536347  1.378155 -0.338321  0.462388  0.239599   \n",
              "1  1.191857  0.266151  0.166480  0.448154  0.060018 -0.082361 -0.078803   \n",
              "2 -1.358354 -1.340163  1.773209  0.379780 -0.503198  1.800499  0.791461   \n",
              "3 -0.966272 -0.185226  1.792993 -0.863291 -0.010309  1.247203  0.237609   \n",
              "4 -1.158233  0.877737  1.548718  0.403034 -0.407193  0.095921  0.592941   \n",
              "\n",
              "         V8        V9       V10  ...       V22       V23       V24       V25  \\\n",
              "0  0.098698  0.363787  0.090794  ...  0.277838 -0.110474  0.066928  0.128539   \n",
              "1  0.085102 -0.255425 -0.166974  ... -0.638672  0.101288 -0.339846  0.167170   \n",
              "2  0.247676 -1.514654  0.207643  ...  0.771679  0.909412 -0.689281 -0.327642   \n",
              "3  0.377436 -1.387024 -0.054952  ...  0.005274 -0.190321 -1.175575  0.647376   \n",
              "4 -0.270533  0.817739  0.753074  ...  0.798278 -0.137458  0.141267 -0.206010   \n",
              "\n",
              "        V26       V27       V28  Class  Scaler_amount  Scaler_time  \n",
              "0 -0.189115  0.133558 -0.021053    0.0       0.248726    -2.098211  \n",
              "1  0.125895 -0.008983  0.014724    0.0      -0.367490    -2.098211  \n",
              "2 -0.139097 -0.055353 -0.059752    0.0       1.209306    -2.098133  \n",
              "3 -0.221929  0.062723  0.061458    0.0       0.139180    -2.098133  \n",
              "4  0.502292  0.219422  0.215153    0.0      -0.085237    -2.098055  \n",
              "\n",
              "[5 rows x 31 columns]"
            ]
          },
          "execution_count": 105,
          "metadata": {},
          "output_type": "execute_result"
        }
      ],
      "source": [
        "data_clean.head()"
      ]
    },
    {
      "cell_type": "code",
      "execution_count": 106,
      "metadata": {
        "id": "QCRBP_5qHqgv"
      },
      "outputs": [],
      "source": [
        "percent = (data_clean.isnull().sum() / 79317)"
      ]
    },
    {
      "cell_type": "code",
      "execution_count": 107,
      "metadata": {
        "colab": {
          "base_uri": "https://localhost:8080/"
        },
        "id": "nkr6MdFbS54h",
        "outputId": "d1502a33-40ed-4331-c4a7-624532b0b0de"
      },
      "outputs": [
        {
          "name": "stdout",
          "output_type": "stream",
          "text": [
            "V1               0.000000\n",
            "V2               0.000000\n",
            "V3               0.000000\n",
            "V4               0.000000\n",
            "V5               0.000000\n",
            "V6               0.000000\n",
            "V7               0.000000\n",
            "V8               0.000000\n",
            "V9               0.000000\n",
            "V10              0.000000\n",
            "V11              0.000000\n",
            "V12              0.000000\n",
            "V13              0.000000\n",
            "V14              0.000000\n",
            "V15              0.000000\n",
            "V16              0.000000\n",
            "V17              0.000000\n",
            "V18              0.000000\n",
            "V19              0.000000\n",
            "V20              0.000000\n",
            "V21              0.000000\n",
            "V22              0.000000\n",
            "V23              0.000000\n",
            "V24              0.000000\n",
            "V25              0.000000\n",
            "V26              0.000000\n",
            "V27              0.000013\n",
            "V28              0.000013\n",
            "Class            0.000013\n",
            "Scaler_amount    0.000013\n",
            "Scaler_time      0.000000\n",
            "dtype: float64\n"
          ]
        }
      ],
      "source": [
        "print(percent)"
      ]
    },
    {
      "cell_type": "code",
      "execution_count": 108,
      "metadata": {
        "id": "A7cf7fA0TOYH"
      },
      "outputs": [],
      "source": [
        "data_clean['V11'].fillna(data_clean['V11'].mean(), inplace = True)\n",
        "data_clean['V12'].fillna(data_clean['V12'].mean(), inplace = True)\n",
        "data_clean['V13'].fillna(data_clean['V13'].mean(), inplace = True)\n",
        "data_clean['V14'].fillna(data_clean['V14'].mean(), inplace = True)\n",
        "data_clean['V15'].fillna(data_clean['V15'].mean(), inplace = True)\n",
        "data_clean['V16'].fillna(data_clean['V16'].mean(), inplace = True)\n",
        "data_clean['V17'].fillna(data_clean['V17'].mean(), inplace = True)\n",
        "data_clean['V18'].fillna(data_clean['V18'].mean(), inplace = True)\n",
        "data_clean['V19'].fillna(data_clean['V19'].mean(), inplace = True)\n",
        "data_clean['V20'].fillna(data_clean['V20'].mean(), inplace = True)\n",
        "data_clean['V21'].fillna(data_clean['V21'].mean(), inplace = True)\n",
        "data_clean['V22'].fillna(data_clean['V22'].mean(), inplace = True)\n",
        "data_clean['V23'].fillna(data_clean['V23'].mean(), inplace = True)\n",
        "data_clean['V24'].fillna(data_clean['V24'].mean(), inplace = True)\n",
        "data_clean['V25'].fillna(data_clean['V25'].mean(), inplace = True)\n",
        "data_clean['V26'].fillna(data_clean['V26'].mean(), inplace = True)\n",
        "data_clean['V27'].fillna(data_clean['V27'].mean(), inplace = True)\n",
        "data_clean['V28'].fillna(data_clean['V28'].mean(), inplace = True)\n",
        "data_clean['Class'].fillna(0.0, inplace = True)\n",
        "data_clean['Scaler_amount'].fillna(data_clean['Scaler_amount'].mean(), inplace = True)"
      ]
    },
    {
      "cell_type": "code",
      "execution_count": 109,
      "metadata": {
        "colab": {
          "base_uri": "https://localhost:8080/"
        },
        "id": "uBIGttIrVydO",
        "outputId": "44e11989-361c-4134-d993-88ad2c0f93c5"
      },
      "outputs": [
        {
          "name": "stdout",
          "output_type": "stream",
          "text": [
            "V1               0.0\n",
            "V2               0.0\n",
            "V3               0.0\n",
            "V4               0.0\n",
            "V5               0.0\n",
            "V6               0.0\n",
            "V7               0.0\n",
            "V8               0.0\n",
            "V9               0.0\n",
            "V10              0.0\n",
            "V11              0.0\n",
            "V12              0.0\n",
            "V13              0.0\n",
            "V14              0.0\n",
            "V15              0.0\n",
            "V16              0.0\n",
            "V17              0.0\n",
            "V18              0.0\n",
            "V19              0.0\n",
            "V20              0.0\n",
            "V21              0.0\n",
            "V22              0.0\n",
            "V23              0.0\n",
            "V24              0.0\n",
            "V25              0.0\n",
            "V26              0.0\n",
            "V27              0.0\n",
            "V28              0.0\n",
            "Class            0.0\n",
            "Scaler_amount    0.0\n",
            "Scaler_time      0.0\n",
            "dtype: float64\n"
          ]
        }
      ],
      "source": [
        "percent = (data_clean.isnull().sum() / 79317)\n",
        "print(percent)"
      ]
    },
    {
      "cell_type": "code",
      "execution_count": 110,
      "metadata": {
        "id": "QA4DVr095z7A"
      },
      "outputs": [],
      "source": [
        "X = data_clean.drop('Class', axis=1)\n",
        "y = data_clean['Class']"
      ]
    },
    {
      "cell_type": "code",
      "execution_count": 111,
      "metadata": {
        "id": "EQgYGM2l1IhI"
      },
      "outputs": [],
      "source": [
        "X_train, X_test, y_train, y_test =  train_test_split(X, y, test_size = 0.3, random_state = 42,shuffle=True)"
      ]
    },
    {
      "cell_type": "code",
      "execution_count": 112,
      "metadata": {
        "colab": {
          "base_uri": "https://localhost:8080/",
          "height": 501
        },
        "id": "q-2EJsgZNxmf",
        "outputId": "2ba53094-ebb4-4d10-9484-5f5dd2473a5c"
      },
      "outputs": [
        {
          "name": "stdout",
          "output_type": "stream",
          "text": [
            "0.0    86\n",
            "1.0    86\n",
            "Name: Class, dtype: int64\n"
          ]
        },
        {
          "name": "stderr",
          "output_type": "stream",
          "text": [
            "/usr/local/lib/python3.7/dist-packages/seaborn/_decorators.py:43: FutureWarning: Pass the following variable as a keyword arg: x. From version 0.12, the only valid positional argument will be `data`, and passing other arguments without an explicit keyword will result in an error or misinterpretation.\n",
            "  FutureWarning\n"
          ]
        },
        {
          "data": {
            "image/png": "[encoded data removed]",
            "text/plain": [
              "<Figure size 576x432 with 1 Axes>"
            ]
          },
          "metadata": {
            "needs_background": "light"
          },
          "output_type": "display_data"
        }
      ],
      "source": [
        "from imblearn.under_sampling import RandomUnderSampler\n",
        "rus = RandomUnderSampler()\n",
        "X_rus, y_rus = rus.fit_resample(X_train, y_train)\n",
        "print(pd.Series(y_rus).value_counts())\n",
        "sns.countplot(y_rus);"
      ]
    },
    {
      "cell_type": "code",
      "execution_count": 112,
      "metadata": {
        "id": "3G9qVAVNOGBz"
      },
      "outputs": [],
      "source": []
    },
    {
      "cell_type": "code",
      "execution_count": 113,
      "metadata": {
        "id": "tYNmsqcUOJQF"
      },
      "outputs": [],
      "source": [
        "smote = SMOTE()"
      ]
    },
    {
      "cell_type": "code",
      "execution_count": 114,
      "metadata": {
        "id": "36oy-p-gOPMp"
      },
      "outputs": [],
      "source": [
        "X_smo, y_smo = smote.fit_resample(X_train,y_train)"
      ]
    },
    {
      "cell_type": "code",
      "execution_count": 115,
      "metadata": {
        "colab": {
          "base_uri": "https://localhost:8080/",
          "height": 501
        },
        "id": "G_UdO7PeOdx4",
        "outputId": "87b4b14d-c714-4959-e9a3-e8cc812a3cc0"
      },
      "outputs": [
        {
          "name": "stdout",
          "output_type": "stream",
          "text": [
            "0.0    30478\n",
            "1.0    30478\n",
            "Name: Class, dtype: int64\n"
          ]
        },
        {
          "name": "stderr",
          "output_type": "stream",
          "text": [
            "/usr/local/lib/python3.7/dist-packages/seaborn/_decorators.py:43: FutureWarning: Pass the following variable as a keyword arg: x. From version 0.12, the only valid positional argument will be `data`, and passing other arguments without an explicit keyword will result in an error or misinterpretation.\n",
            "  FutureWarning\n"
          ]
        },
        {
          "data": {
            "image/png": "[encoded data removed]",
            "text/plain": [
              "<Figure size 576x432 with 1 Axes>"
            ]
          },
          "metadata": {
            "needs_background": "light"
          },
          "output_type": "display_data"
        }
      ],
      "source": [
        "print(pd.Series(y_smo).value_counts())\n",
        "sns.countplot(y_smo);"
      ]
    },
    {
      "cell_type": "code",
      "execution_count": 116,
      "metadata": {
        "colab": {
          "base_uri": "https://localhost:8080/",
          "height": 501
        },
        "id": "nTFnKTz2Ptgo",
        "outputId": "9e49a5f0-3ecd-458a-b4eb-5cb1afbc8a16"
      },
      "outputs": [
        {
          "name": "stdout",
          "output_type": "stream",
          "text": [
            "0.0    30478\n",
            "1.0    30478\n",
            "Name: Class, dtype: int64\n"
          ]
        },
        {
          "name": "stderr",
          "output_type": "stream",
          "text": [
            "/usr/local/lib/python3.7/dist-packages/seaborn/_decorators.py:43: FutureWarning: Pass the following variable as a keyword arg: x. From version 0.12, the only valid positional argument will be `data`, and passing other arguments without an explicit keyword will result in an error or misinterpretation.\n",
            "  FutureWarning\n"
          ]
        },
        {
          "data": {
            "image/png": "[encoded data removed]",
            "text/plain": [
              "<Figure size 576x432 with 1 Axes>"
            ]
          },
          "metadata": {
            "needs_background": "light"
          },
          "output_type": "display_data"
        }
      ],
      "source": [
        "from imblearn.over_sampling import ADASYN\n",
        "ada = ADASYN()\n",
        "X_ada, y_ada = ada.fit_resample(X_train, y_train)\n",
        "print(pd.Series(y_ada).value_counts())\n",
        "sns.countplot(y_ada);"
      ]
    },
    {
      "cell_type": "code",
      "execution_count": 117,
      "metadata": {
        "id": "aI9UcKrHRbg4"
      },
      "outputs": [],
      "source": [
        "randomFlorest =  RandomForestClassifier(n_estimators= 15, random_state = 42)\n",
        "randomFlorest.fit(X_train,y_train)\n",
        "predicition_randomFlorest = randomFlorest.predict(X_test)"
      ]
    },
    {
      "cell_type": "code",
      "execution_count": 118,
      "metadata": {
        "id": "bKNob8c6nYxi"
      },
      "outputs": [],
      "source": [
        "randomFlorest_rus =  RandomForestClassifier(n_estimators= 15, random_state = 42)\n",
        "randomFlorest_rus.fit(X_rus,y_rus)\n",
        "predicition_randomFlorest_rus = randomFlorest_rus.predict(X_test)"
      ]
    },
    {
      "cell_type": "code",
      "execution_count": 119,
      "metadata": {
        "colab": {
          "base_uri": "https://localhost:8080/"
        },
        "id": "Fd9WBMwxRxji",
        "outputId": "409c3599-31a8-4676-abd9-15dae9e61e39"
      },
      "outputs": [
        {
          "name": "stdout",
          "output_type": "stream",
          "text": [
            "              precision    recall  f1-score   support\n",
            "\n",
            "         0.0       1.00      1.00      1.00     13052\n",
            "         1.0       0.93      0.83      0.88        48\n",
            "\n",
            "    accuracy                           1.00     13100\n",
            "   macro avg       0.96      0.92      0.94     13100\n",
            "weighted avg       1.00      1.00      1.00     13100\n",
            "\n"
          ]
        }
      ],
      "source": [
        "print(classification_report(y_test,predicition_randomFlorest) )"
      ]
    },
    {
      "cell_type": "code",
      "execution_count": 120,
      "metadata": {
        "colab": {
          "base_uri": "https://localhost:8080/"
        },
        "id": "bQ7aJzL8Pr3F",
        "outputId": "b19c82d3-7862-43d8-ea8f-c0a20a7759f0"
      },
      "outputs": [
        {
          "name": "stdout",
          "output_type": "stream",
          "text": [
            "              precision    recall  f1-score   support\n",
            "\n",
            "         0.0       1.00      0.98      0.99     13052\n",
            "         1.0       0.16      0.85      0.26        48\n",
            "\n",
            "    accuracy                           0.98     13100\n",
            "   macro avg       0.58      0.92      0.63     13100\n",
            "weighted avg       1.00      0.98      0.99     13100\n",
            "\n"
          ]
        }
      ],
      "source": [
        "print(classification_report(y_test,predicition_randomFlorest_rus))"
      ]
    },
    {
      "cell_type": "code",
      "execution_count": 121,
      "metadata": {
        "id": "GZrA7MYoP07r"
      },
      "outputs": [],
      "source": [
        "randomFlorest_smo =  RandomForestClassifier(n_estimators= 15, random_state = 42)\n",
        "randomFlorest_smo.fit(X_smo,y_smo)\n",
        "predicition_randomFlorest_smo = randomFlorest_smo.predict(X_test)"
      ]
    },
    {
      "cell_type": "code",
      "execution_count": 122,
      "metadata": {
        "colab": {
          "base_uri": "https://localhost:8080/"
        },
        "id": "dMykt2nWQBaH",
        "outputId": "12c43f12-fbf5-4270-9d9a-e9c222a402ce"
      },
      "outputs": [
        {
          "name": "stdout",
          "output_type": "stream",
          "text": [
            "              precision    recall  f1-score   support\n",
            "\n",
            "         0.0       1.00      1.00      1.00     13052\n",
            "         1.0       0.93      0.81      0.87        48\n",
            "\n",
            "    accuracy                           1.00     13100\n",
            "   macro avg       0.96      0.91      0.93     13100\n",
            "weighted avg       1.00      1.00      1.00     13100\n",
            "\n"
          ]
        }
      ],
      "source": [
        "print(classification_report(y_test,predicition_randomFlorest_smo))"
      ]
    },
    {
      "cell_type": "code",
      "execution_count": 123,
      "metadata": {
        "id": "JQtxiBbZQKws"
      },
      "outputs": [],
      "source": [
        "randomFlorest_ada =  RandomForestClassifier(n_estimators= 15, random_state = 42)\n",
        "randomFlorest_ada.fit(X_ada,y_ada)\n",
        "predicition_randomFlorest_ada = randomFlorest_ada.predict(X_test)"
      ]
    },
    {
      "cell_type": "code",
      "execution_count": 124,
      "metadata": {
        "colab": {
          "base_uri": "https://localhost:8080/"
        },
        "id": "kdGvQwUOQmAA",
        "outputId": "a226061e-11fb-4cff-eaaf-feac6a5b975b"
      },
      "outputs": [
        {
          "name": "stdout",
          "output_type": "stream",
          "text": [
            "              precision    recall  f1-score   support\n",
            "\n",
            "         0.0       1.00      1.00      1.00     13052\n",
            "         1.0       0.98      0.83      0.90        48\n",
            "\n",
            "    accuracy                           1.00     13100\n",
            "   macro avg       0.99      0.92      0.95     13100\n",
            "weighted avg       1.00      1.00      1.00     13100\n",
            "\n"
          ]
        }
      ],
      "source": [
        "print(classification_report(y_test,predicition_randomFlorest_ada))"
      ]
    },
    {
      "cell_type": "code",
      "execution_count": 125,
      "metadata": {
        "colab": {
          "base_uri": "https://localhost:8080/"
        },
        "id": "xGpjdj5JoE8T",
        "outputId": "eddf2790-0c71-4eef-b830-9f3704d5a2b1"
      },
      "outputs": [
        {
          "name": "stdout",
          "output_type": "stream",
          "text": [
            "0.9302325581395349 0.8333333333333334 0.8791208791208791\n"
          ]
        }
      ],
      "source": [
        "precision = precision_score(y_test, predicition_randomFlorest)\n",
        "recall = recall_score(y_test, predicition_randomFlorest)\n",
        "f1 = f1_score(y_test, predicition_randomFlorest)\n",
        "print(precision,recall,f1)"
      ]
    },
    {
      "cell_type": "code",
      "execution_count": 126,
      "metadata": {
        "id": "IkmU7n9oo-Ta"
      },
      "outputs": [],
      "source": [
        "logReg = LogisticRegression(max_iter=7600)\n",
        "\n",
        "logReg.fit(X_train, y_train)\n",
        "\n",
        "log_y_pred = logReg.predict(X_test)\n",
        "\n",
        "log_precision = precision_score(y_test, log_y_pred)\n",
        "log_recall = recall_score(y_test, log_y_pred)\n",
        "log_f1 = f1_score(y_test, log_y_pred)"
      ]
    },
    {
      "cell_type": "code",
      "execution_count": 127,
      "metadata": {
        "colab": {
          "base_uri": "https://localhost:8080/"
        },
        "id": "fRE4vdd2pL26",
        "outputId": "3b1ff968-e060-4dfd-da31-19cd2ca21dd4"
      },
      "outputs": [
        {
          "name": "stdout",
          "output_type": "stream",
          "text": [
            "              precision    recall  f1-score   support\n",
            "\n",
            "         0.0       1.00      1.00      1.00     13052\n",
            "         1.0       0.86      0.62      0.72        48\n",
            "\n",
            "    accuracy                           1.00     13100\n",
            "   macro avg       0.93      0.81      0.86     13100\n",
            "weighted avg       1.00      1.00      1.00     13100\n",
            "\n"
          ]
        }
      ],
      "source": [
        "print(classification_report(y_test,log_y_pred))"
      ]
    },
    {
      "cell_type": "code",
      "execution_count": 128,
      "metadata": {
        "id": "0RjHG9rpQ9MQ"
      },
      "outputs": [],
      "source": [
        "logReg_rus = LogisticRegression()\n",
        "\n",
        "logReg_rus.fit(X_rus, y_rus)\n",
        "\n",
        "log_y_pred = logReg_rus.predict(X_test)"
      ]
    },
    {
      "cell_type": "code",
      "execution_count": 129,
      "metadata": {
        "colab": {
          "base_uri": "https://localhost:8080/"
        },
        "id": "-sLq6LjxRCUN",
        "outputId": "310b36de-4da6-4177-da70-84ae63bd2b46"
      },
      "outputs": [
        {
          "name": "stdout",
          "output_type": "stream",
          "text": [
            "              precision    recall  f1-score   support\n",
            "\n",
            "         0.0       1.00      0.99      0.99     13052\n",
            "         1.0       0.20      0.88      0.33        48\n",
            "\n",
            "    accuracy                           0.99     13100\n",
            "   macro avg       0.60      0.93      0.66     13100\n",
            "weighted avg       1.00      0.99      0.99     13100\n",
            "\n"
          ]
        }
      ],
      "source": [
        "print(classification_report(y_test,log_y_pred))"
      ]
    },
    {
      "cell_type": "code",
      "execution_count": 130,
      "metadata": {
        "id": "jMkSL1-jRU5Z"
      },
      "outputs": [],
      "source": [
        "model_log_smo = LogisticRegression(max_iter=7600)\n",
        "model_log_smo.fit(X_smo, y_smo)\n",
        "y_pred_smo = model_log_smo.predict(X_test)"
      ]
    },
    {
      "cell_type": "code",
      "execution_count": 131,
      "metadata": {
        "colab": {
          "base_uri": "https://localhost:8080/"
        },
        "id": "Be4IprU1Rezg",
        "outputId": "196578d0-a28b-4fcf-845b-f0cfa5d67fe5"
      },
      "outputs": [
        {
          "name": "stdout",
          "output_type": "stream",
          "text": [
            "              precision    recall  f1-score   support\n",
            "\n",
            "         0.0       1.00      0.99      1.00     13052\n",
            "         1.0       0.35      0.85      0.50        48\n",
            "\n",
            "    accuracy                           0.99     13100\n",
            "   macro avg       0.67      0.92      0.75     13100\n",
            "weighted avg       1.00      0.99      0.99     13100\n",
            "\n"
          ]
        }
      ],
      "source": [
        "print(classification_report(y_test,y_pred_smo))"
      ]
    },
    {
      "cell_type": "code",
      "execution_count": 132,
      "metadata": {
        "id": "13C9p6dQRmNo"
      },
      "outputs": [],
      "source": [
        "model_log_ada = LogisticRegression(max_iter=7600)\n",
        "model_log_ada.fit(X_ada, y_ada)\n",
        "y_pred_ada = model_log_ada.predict(X_test)"
      ]
    },
    {
      "cell_type": "code",
      "execution_count": 133,
      "metadata": {
        "colab": {
          "base_uri": "https://localhost:8080/"
        },
        "id": "KucgMzh6Rsqz",
        "outputId": "e7a254d3-5546-4123-8920-1d3fe34abd6c"
      },
      "outputs": [
        {
          "name": "stdout",
          "output_type": "stream",
          "text": [
            "              precision    recall  f1-score   support\n",
            "\n",
            "         0.0       1.00      0.99      1.00     13052\n",
            "         1.0       0.26      0.88      0.41        48\n",
            "\n",
            "    accuracy                           0.99     13100\n",
            "   macro avg       0.63      0.93      0.70     13100\n",
            "weighted avg       1.00      0.99      0.99     13100\n",
            "\n"
          ]
        }
      ],
      "source": [
        "print(classification_report(y_test,y_pred_ada))"
      ]
    },
    {
      "cell_type": "code",
      "execution_count": 134,
      "metadata": {
        "colab": {
          "base_uri": "https://localhost:8080/"
        },
        "id": "CxruekJuqGvb",
        "outputId": "41b8ce3c-a7e4-45ec-b53f-67fef59d1a01"
      },
      "outputs": [
        {
          "name": "stdout",
          "output_type": "stream",
          "text": [
            "Epoch 1/5\n",
            "956/956 [==============================] - 4s 3ms/step - loss: 0.2022 - precision: 0.0080 - recall: 0.1047 - val_loss: 0.0268 - val_precision: 0.0000e+00 - val_recall: 0.0000e+00\n",
            "Epoch 2/5\n",
            "956/956 [==============================] - 2s 3ms/step - loss: 0.0279 - precision: 0.5588 - recall: 0.2209 - val_loss: 0.0107 - val_precision: 0.8148 - val_recall: 0.4583\n",
            "Epoch 3/5\n",
            "956/956 [==============================] - 3s 3ms/step - loss: 0.0140 - precision: 0.7000 - recall: 0.4070 - val_loss: 0.0092 - val_precision: 0.8462 - val_recall: 0.6875\n",
            "Epoch 4/5\n",
            "956/956 [==============================] - 3s 3ms/step - loss: 0.0102 - precision: 0.7000 - recall: 0.4070 - val_loss: 0.0086 - val_precision: 0.8537 - val_recall: 0.7292\n",
            "Epoch 5/5\n",
            "956/956 [==============================] - 3s 3ms/step - loss: 0.0085 - precision: 0.6957 - recall: 0.5581 - val_loss: 0.0087 - val_precision: 0.8636 - val_recall: 0.7917\n"
          ]
        },
        {
          "data": {
            "text/plain": [
              "<keras.callbacks.History at 0x7f24e063ad50>"
            ]
          },
          "execution_count": 134,
          "metadata": {},
          "output_type": "execute_result"
        }
      ],
      "source": [
        "\n",
        "\n",
        "model = Sequential()\n",
        "\n",
        "model.add(Dense(64,input_dim=30,activation='relu'))\n",
        "model.add(Dense(32, activation = 'relu'))\n",
        "model.add(Dropout(0.5))\n",
        "model.add(Dense(16,activation = 'relu'))\n",
        "model.add(Dropout(0.15))\n",
        "model.add(Dense(1, activation = 'sigmoid'))\n",
        "\n",
        "opt = Adam(learning_rate=1e-4, decay=1e-6)\n",
        "\n",
        "model.compile(loss=\"binary_crossentropy\",optimizer=opt,metrics=['Precision','Recall'])\n",
        "\n",
        "model.fit(X_train, y_train, epochs = 5,\\\n",
        "                    validation_data = (X_test, y_test))\n"
      ]
    },
    {
      "cell_type": "code",
      "execution_count": 135,
      "metadata": {
        "id": "niIHqUTU-vOx"
      },
      "outputs": [],
      "source": [
        "predicition_neuralNetWork =  model.predict(X_test)"
      ]
    },
    {
      "cell_type": "code",
      "execution_count": 136,
      "metadata": {
        "colab": {
          "base_uri": "https://localhost:8080/"
        },
        "id": "-rkJMbqN-rXK",
        "outputId": "53491aed-a0b9-417b-f389-6507f8f17aed"
      },
      "outputs": [
        {
          "name": "stdout",
          "output_type": "stream",
          "text": [
            "              precision    recall  f1-score   support\n",
            "\n",
            "         0.0       1.00      1.00      1.00     13052\n",
            "         1.0       0.86      0.79      0.83        48\n",
            "\n",
            "    accuracy                           1.00     13100\n",
            "   macro avg       0.93      0.90      0.91     13100\n",
            "weighted avg       1.00      1.00      1.00     13100\n",
            "\n"
          ]
        }
      ],
      "source": [
        "print(classification_report(y_test,predicition_neuralNetWork.round()))"
      ]
    },
    {
      "cell_type": "code",
      "execution_count": 137,
      "metadata": {
        "colab": {
          "base_uri": "https://localhost:8080/"
        },
        "id": "k5lJg0gDcI0K",
        "outputId": "0de492bf-76e6-48a7-cdc8-75c9a79594f4"
      },
      "outputs": [
        {
          "name": "stdout",
          "output_type": "stream",
          "text": [
            "Epoch 1/5\n",
            "6/6 [==============================] - 2s 220ms/step - loss: 0.7958 - precision: 0.4923 - recall: 0.7442 - val_loss: 0.9296 - val_precision: 0.0038 - val_recall: 0.9792\n",
            "Epoch 2/5\n",
            "6/6 [==============================] - 1s 104ms/step - loss: 0.8797 - precision: 0.4806 - recall: 0.7209 - val_loss: 0.9235 - val_precision: 0.0038 - val_recall: 0.9792\n",
            "Epoch 3/5\n",
            "6/6 [==============================] - 1s 104ms/step - loss: 0.8716 - precision: 0.4762 - recall: 0.6977 - val_loss: 0.9184 - val_precision: 0.0039 - val_recall: 0.9792\n",
            "Epoch 4/5\n",
            "6/6 [==============================] - 1s 131ms/step - loss: 0.9376 - precision: 0.4567 - recall: 0.6744 - val_loss: 0.9131 - val_precision: 0.0039 - val_recall: 0.9792\n",
            "Epoch 5/5\n",
            "6/6 [==============================] - 1s 131ms/step - loss: 0.7614 - precision: 0.4855 - recall: 0.7791 - val_loss: 0.9063 - val_precision: 0.0039 - val_recall: 0.9792\n"
          ]
        },
        {
          "data": {
            "text/plain": [
              "<keras.callbacks.History at 0x7f24e07aea50>"
            ]
          },
          "execution_count": 137,
          "metadata": {},
          "output_type": "execute_result"
        }
      ],
      "source": [
        "\n",
        "\n",
        "model_rus = Sequential()\n",
        "\n",
        "model_rus.add(Dense(64,input_dim=30,activation='relu'))\n",
        "model_rus.add(Dense(32, activation = 'relu'))\n",
        "model_rus.add(Dropout(0.5))\n",
        "model_rus.add(Dense(16,activation = 'relu'))\n",
        "model_rus.add(Dropout(0.15))\n",
        "model_rus.add(Dense(1, activation = 'sigmoid'))\n",
        "\n",
        "opt = Adam(learning_rate=1e-4, decay=1e-6)\n",
        "\n",
        "model_rus.compile(loss=\"binary_crossentropy\",optimizer=opt,metrics=['Precision','Recall'])\n",
        "\n",
        "model_rus.fit(X_rus, y_rus, epochs = 5,\\\n",
        "                    validation_data = (X_test, y_test))"
      ]
    },
    {
      "cell_type": "code",
      "execution_count": 138,
      "metadata": {
        "id": "VIIWU8GCca2B"
      },
      "outputs": [],
      "source": [
        "predicition_neuralNetWork_rus =  model_rus.predict(X_test)"
      ]
    },
    {
      "cell_type": "code",
      "execution_count": 139,
      "metadata": {
        "colab": {
          "base_uri": "https://localhost:8080/"
        },
        "id": "Bu0TMyDfcew2",
        "outputId": "5d05707a-5f16-4fd3-d99b-a4aed5e909e1"
      },
      "outputs": [
        {
          "name": "stdout",
          "output_type": "stream",
          "text": [
            "              precision    recall  f1-score   support\n",
            "\n",
            "         0.0       1.00      0.08      0.15     13052\n",
            "         1.0       0.00      0.98      0.01        48\n",
            "\n",
            "    accuracy                           0.08     13100\n",
            "   macro avg       0.50      0.53      0.08     13100\n",
            "weighted avg       1.00      0.08      0.15     13100\n",
            "\n"
          ]
        }
      ],
      "source": [
        "print(classification_report(y_test,predicition_neuralNetWork_rus.round()))"
      ]
    },
    {
      "cell_type": "code",
      "execution_count": 140,
      "metadata": {
        "colab": {
          "base_uri": "https://localhost:8080/"
        },
        "id": "zRJ1zvWiOAX2",
        "outputId": "39f7a983-7d2d-4d25-ee5a-0d2cd401f23e"
      },
      "outputs": [
        {
          "name": "stdout",
          "output_type": "stream",
          "text": [
            "Epoch 1/5\n",
            "1905/1905 [==============================] - 6s 3ms/step - loss: 0.2456 - precision: 0.9081 - recall: 0.9125 - val_loss: 0.0348 - val_precision: 0.3818 - val_recall: 0.8750\n",
            "Epoch 2/5\n",
            "1905/1905 [==============================] - 4s 2ms/step - loss: 0.0406 - precision: 0.9936 - recall: 0.9897 - val_loss: 0.0171 - val_precision: 0.6364 - val_recall: 0.8750\n",
            "Epoch 3/5\n",
            "1905/1905 [==============================] - 4s 2ms/step - loss: 0.0208 - precision: 0.9969 - recall: 0.9972 - val_loss: 0.0143 - val_precision: 0.7500 - val_recall: 0.8750\n",
            "Epoch 4/5\n",
            "1905/1905 [==============================] - 5s 2ms/step - loss: 0.0140 - precision: 0.9979 - recall: 0.9992 - val_loss: 0.0135 - val_precision: 0.8077 - val_recall: 0.8750\n",
            "Epoch 5/5\n",
            "1905/1905 [==============================] - 4s 2ms/step - loss: 0.0115 - precision: 0.9984 - recall: 0.9996 - val_loss: 0.0136 - val_precision: 0.8400 - val_recall: 0.8750\n"
          ]
        },
        {
          "data": {
            "text/plain": [
              "<keras.callbacks.History at 0x7f24e0662110>"
            ]
          },
          "execution_count": 140,
          "metadata": {},
          "output_type": "execute_result"
        }
      ],
      "source": [
        "\n",
        "\n",
        "model_smo = Sequential()\n",
        "\n",
        "model_smo.add(Dense(64,input_dim=30,activation='relu'))\n",
        "model_smo.add(Dense(32, activation = 'relu'))\n",
        "model_smo.add(Dropout(0.5))\n",
        "model_smo.add(Dense(16,activation = 'relu'))\n",
        "model_smo.add(Dropout(0.15))\n",
        "model_smo.add(Dense(1, activation = 'sigmoid'))\n",
        "\n",
        "opt = Adam(learning_rate=1e-4, decay=1e-6)\n",
        "\n",
        "model_smo.compile(loss=\"binary_crossentropy\",optimizer=opt,metrics=['Precision','Recall'])\n",
        "\n",
        "model_smo.fit(X_smo, y_smo, epochs = 5,\\\n",
        "                    validation_data = (X_test, y_test))"
      ]
    },
    {
      "cell_type": "code",
      "execution_count": 141,
      "metadata": {
        "colab": {
          "base_uri": "https://localhost:8080/"
        },
        "id": "emHPxtQ8OZat",
        "outputId": "69a39409-36d0-4079-c4ca-ac1fada6c82f"
      },
      "outputs": [
        {
          "name": "stdout",
          "output_type": "stream",
          "text": [
            "              precision    recall  f1-score   support\n",
            "\n",
            "         0.0       1.00      1.00      1.00     13052\n",
            "         1.0       0.84      0.88      0.86        48\n",
            "\n",
            "    accuracy                           1.00     13100\n",
            "   macro avg       0.92      0.94      0.93     13100\n",
            "weighted avg       1.00      1.00      1.00     13100\n",
            "\n"
          ]
        }
      ],
      "source": [
        "predicition_neuralNetWork_smo =  model_smo.predict(X_test)\n",
        "print(classification_report(y_test,predicition_neuralNetWork_smo.round()))\n"
      ]
    },
    {
      "cell_type": "code",
      "execution_count": 142,
      "metadata": {
        "colab": {
          "base_uri": "https://localhost:8080/"
        },
        "id": "ovEuFqQBOBnE",
        "outputId": "69238175-8653-4a58-e2e3-5a8f941c785c"
      },
      "outputs": [
        {
          "name": "stdout",
          "output_type": "stream",
          "text": [
            "Epoch 1/5\n",
            "1905/1905 [==============================] - 6s 3ms/step - loss: 0.2512 - precision: 0.8397 - recall: 0.9585 - val_loss: 0.0371 - val_precision: 0.2593 - val_recall: 0.8750\n",
            "Epoch 2/5\n",
            "1905/1905 [==============================] - 5s 2ms/step - loss: 0.0406 - precision: 0.9914 - recall: 0.9954 - val_loss: 0.0176 - val_precision: 0.6364 - val_recall: 0.8750\n",
            "Epoch 3/5\n",
            "1905/1905 [==============================] - 5s 2ms/step - loss: 0.0204 - precision: 0.9967 - recall: 0.9991 - val_loss: 0.0144 - val_precision: 0.8077 - val_recall: 0.8750\n",
            "Epoch 4/5\n",
            "1905/1905 [==============================] - 4s 2ms/step - loss: 0.0150 - precision: 0.9975 - recall: 0.9995 - val_loss: 0.0145 - val_precision: 0.8077 - val_recall: 0.8750\n",
            "Epoch 5/5\n",
            "1905/1905 [==============================] - 4s 2ms/step - loss: 0.0113 - precision: 0.9981 - recall: 0.9998 - val_loss: 0.0142 - val_precision: 0.8235 - val_recall: 0.8750\n"
          ]
        },
        {
          "data": {
            "text/plain": [
              "<keras.callbacks.History at 0x7f24de70fe90>"
            ]
          },
          "execution_count": 142,
          "metadata": {},
          "output_type": "execute_result"
        }
      ],
      "source": [
        "\n",
        "model_ada = Sequential()\n",
        "\n",
        "model_ada.add(Dense(64,input_dim=30,activation='relu'))\n",
        "model_ada.add(Dense(32, activation = 'relu'))\n",
        "model_ada.add(Dropout(0.5))\n",
        "model_ada.add(Dense(16,activation = 'relu'))\n",
        "model_ada.add(Dropout(0.15))\n",
        "model_ada.add(Dense(1, activation = 'sigmoid'))\n",
        "\n",
        "opt = Adam(learning_rate=1e-4, decay=1e-6)\n",
        "\n",
        "model_ada.compile(loss=\"binary_crossentropy\",optimizer=opt,metrics=['Precision','Recall'])\n",
        "\n",
        "model_ada.fit(X_ada, y_ada, epochs = 5,\\\n",
        "                    validation_data = (X_test, y_test))"
      ]
    },
    {
      "cell_type": "code",
      "execution_count": 143,
      "metadata": {
        "id": "K5GkqdltOgic"
      },
      "outputs": [],
      "source": [
        "predicition_neuralNetWork_ada =  model_ada.predict(X_test)"
      ]
    },
    {
      "cell_type": "code",
      "execution_count": 144,
      "metadata": {
        "colab": {
          "base_uri": "https://localhost:8080/"
        },
        "id": "hBXk8i-1OucZ",
        "outputId": "6adc5678-c8a0-4a10-b426-7eac81cd5008"
      },
      "outputs": [
        {
          "name": "stdout",
          "output_type": "stream",
          "text": [
            "              precision    recall  f1-score   support\n",
            "\n",
            "         0.0       1.00      1.00      1.00     13052\n",
            "         1.0       0.82      0.88      0.85        48\n",
            "\n",
            "    accuracy                           1.00     13100\n",
            "   macro avg       0.91      0.94      0.92     13100\n",
            "weighted avg       1.00      1.00      1.00     13100\n",
            "\n"
          ]
        }
      ],
      "source": [
        "print(classification_report(y_test,predicition_neuralNetWork_ada.round()))\n"
      ]
    }
  ],
  "metadata": {
    "colab": {
      "collapsed_sections": [],
      "name": "Detecting credit card fraud.ipynb",
      "provenance": []
    },
    "kernelspec": {
      "display_name": "Python 3",
      "name": "python3"
    },
    "language_info": {
      "name": "python"
    }
  },
  "nbformat": 4,
  "nbformat_minor": 0
}
