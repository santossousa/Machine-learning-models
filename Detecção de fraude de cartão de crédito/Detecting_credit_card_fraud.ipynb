{
  "nbformat": 4,
  "nbformat_minor": 0,
  "metadata": {
    "colab": {
      "name": "Detecting credit card fraud.ipynb",
      "provenance": [],
      "collapsed_sections": []
    },
    "kernelspec": {
      "name": "python3",
      "display_name": "Python 3"
    },
    "language_info": {
      "name": "python"
    }
  },
  "cells": [
    {
      "cell_type": "code",
      "execution_count": 67,
      "metadata": {
        "id": "UZuWGpbYIa2R"
      },
      "outputs": [],
      "source": [
        "import numpy as np \n",
        "import pandas as pd \n",
        "import seaborn as sns\n",
        "import matplotlib.pyplot as plt\n",
        "from sklearn.model_selection import train_test_split\n",
        "from sklearn.ensemble import RandomForestClassifier\n",
        "from sklearn.metrics import precision_score, recall_score, f1_score, confusion_matrix\n",
        "from sklearn.linear_model import LogisticRegression\n",
        "from sklearn.metrics import classification_report\n",
        "from imblearn.over_sampling import SMOTE\n",
        "from tensorflow.keras.models import Sequential\n",
        "from tensorflow.keras.layers import add, Dense, Dropout\n",
        "from tensorflow.keras.optimizers import Adam\n"
      ]
    },
    {
      "cell_type": "code",
      "source": [
        "data = pd.read_csv(\"/content/creditcard.csv\")"
      ],
      "metadata": {
        "id": "WcRFloSkvRsl"
      },
      "execution_count": 68,
      "outputs": []
    },
    {
      "cell_type": "code",
      "source": [
        "data.head()"
      ],
      "metadata": {
        "id": "XHTG3zhGvbR5",
        "colab": {
          "base_uri": "https://localhost:8080/",
          "height": 300
        },
        "outputId": "e9be9c4b-1410-43bc-b2a0-111c0d2bc1f3"
      },
      "execution_count": 69,
      "outputs": [
        {
          "output_type": "execute_result",
          "data": {
            "text/plain": [
              "   Time        V1        V2        V3        V4        V5        V6        V7  \\\n",
              "0     0 -1.359807 -0.072781  2.536347  1.378155 -0.338321  0.462388  0.239599   \n",
              "1     0  1.191857  0.266151  0.166480  0.448154  0.060018 -0.082361 -0.078803   \n",
              "2     1 -1.358354 -1.340163  1.773209  0.379780 -0.503198  1.800499  0.791461   \n",
              "3     1 -0.966272 -0.185226  1.792993 -0.863291 -0.010309  1.247203  0.237609   \n",
              "4     2 -1.158233  0.877737  1.548718  0.403034 -0.407193  0.095921  0.592941   \n",
              "\n",
              "         V8        V9  ...       V21       V22       V23       V24       V25  \\\n",
              "0  0.098698  0.363787  ... -0.018307  0.277838 -0.110474  0.066928  0.128539   \n",
              "1  0.085102 -0.255425  ... -0.225775 -0.638672  0.101288 -0.339846  0.167170   \n",
              "2  0.247676 -1.514654  ...  0.247998  0.771679  0.909412 -0.689281 -0.327642   \n",
              "3  0.377436 -1.387024  ... -0.108300  0.005274 -0.190321 -1.175575  0.647376   \n",
              "4 -0.270533  0.817739  ... -0.009431  0.798278 -0.137458  0.141267 -0.206010   \n",
              "\n",
              "        V26       V27       V28  Amount  Class  \n",
              "0 -0.189115  0.133558 -0.021053  149.62    0.0  \n",
              "1  0.125895 -0.008983  0.014724    2.69    0.0  \n",
              "2 -0.139097 -0.055353 -0.059752  378.66    0.0  \n",
              "3 -0.221929  0.062723  0.061458  123.50    0.0  \n",
              "4  0.502292  0.219422  0.215153   69.99    0.0  \n",
              "\n",
              "[5 rows x 31 columns]"
            ],
            "text/html": [
              "\n",
              "  <div id=\"df-285c7313-7113-4108-9e15-6f85e5ff184b\">\n",
              "    <div class=\"colab-df-container\">\n",
              "      <div>\n",
              "<style scoped>\n",
              "    .dataframe tbody tr th:only-of-type {\n",
              "        vertical-align: middle;\n",
              "    }\n",
              "\n",
              "    .dataframe tbody tr th {\n",
              "        vertical-align: top;\n",
              "    }\n",
              "\n",
              "    .dataframe thead th {\n",
              "        text-align: right;\n",
              "    }\n",
              "</style>\n",
              "<table border=\"1\" class=\"dataframe\">\n",
              "  <thead>\n",
              "    <tr style=\"text-align: right;\">\n",
              "      <th></th>\n",
              "      <th>Time</th>\n",
              "      <th>V1</th>\n",
              "      <th>V2</th>\n",
              "      <th>V3</th>\n",
              "      <th>V4</th>\n",
              "      <th>V5</th>\n",
              "      <th>V6</th>\n",
              "      <th>V7</th>\n",
              "      <th>V8</th>\n",
              "      <th>V9</th>\n",
              "      <th>...</th>\n",
              "      <th>V21</th>\n",
              "      <th>V22</th>\n",
              "      <th>V23</th>\n",
              "      <th>V24</th>\n",
              "      <th>V25</th>\n",
              "      <th>V26</th>\n",
              "      <th>V27</th>\n",
              "      <th>V28</th>\n",
              "      <th>Amount</th>\n",
              "      <th>Class</th>\n",
              "    </tr>\n",
              "  </thead>\n",
              "  <tbody>\n",
              "    <tr>\n",
              "      <th>0</th>\n",
              "      <td>0</td>\n",
              "      <td>-1.359807</td>\n",
              "      <td>-0.072781</td>\n",
              "      <td>2.536347</td>\n",
              "      <td>1.378155</td>\n",
              "      <td>-0.338321</td>\n",
              "      <td>0.462388</td>\n",
              "      <td>0.239599</td>\n",
              "      <td>0.098698</td>\n",
              "      <td>0.363787</td>\n",
              "      <td>...</td>\n",
              "      <td>-0.018307</td>\n",
              "      <td>0.277838</td>\n",
              "      <td>-0.110474</td>\n",
              "      <td>0.066928</td>\n",
              "      <td>0.128539</td>\n",
              "      <td>-0.189115</td>\n",
              "      <td>0.133558</td>\n",
              "      <td>-0.021053</td>\n",
              "      <td>149.62</td>\n",
              "      <td>0.0</td>\n",
              "    </tr>\n",
              "    <tr>\n",
              "      <th>1</th>\n",
              "      <td>0</td>\n",
              "      <td>1.191857</td>\n",
              "      <td>0.266151</td>\n",
              "      <td>0.166480</td>\n",
              "      <td>0.448154</td>\n",
              "      <td>0.060018</td>\n",
              "      <td>-0.082361</td>\n",
              "      <td>-0.078803</td>\n",
              "      <td>0.085102</td>\n",
              "      <td>-0.255425</td>\n",
              "      <td>...</td>\n",
              "      <td>-0.225775</td>\n",
              "      <td>-0.638672</td>\n",
              "      <td>0.101288</td>\n",
              "      <td>-0.339846</td>\n",
              "      <td>0.167170</td>\n",
              "      <td>0.125895</td>\n",
              "      <td>-0.008983</td>\n",
              "      <td>0.014724</td>\n",
              "      <td>2.69</td>\n",
              "      <td>0.0</td>\n",
              "    </tr>\n",
              "    <tr>\n",
              "      <th>2</th>\n",
              "      <td>1</td>\n",
              "      <td>-1.358354</td>\n",
              "      <td>-1.340163</td>\n",
              "      <td>1.773209</td>\n",
              "      <td>0.379780</td>\n",
              "      <td>-0.503198</td>\n",
              "      <td>1.800499</td>\n",
              "      <td>0.791461</td>\n",
              "      <td>0.247676</td>\n",
              "      <td>-1.514654</td>\n",
              "      <td>...</td>\n",
              "      <td>0.247998</td>\n",
              "      <td>0.771679</td>\n",
              "      <td>0.909412</td>\n",
              "      <td>-0.689281</td>\n",
              "      <td>-0.327642</td>\n",
              "      <td>-0.139097</td>\n",
              "      <td>-0.055353</td>\n",
              "      <td>-0.059752</td>\n",
              "      <td>378.66</td>\n",
              "      <td>0.0</td>\n",
              "    </tr>\n",
              "    <tr>\n",
              "      <th>3</th>\n",
              "      <td>1</td>\n",
              "      <td>-0.966272</td>\n",
              "      <td>-0.185226</td>\n",
              "      <td>1.792993</td>\n",
              "      <td>-0.863291</td>\n",
              "      <td>-0.010309</td>\n",
              "      <td>1.247203</td>\n",
              "      <td>0.237609</td>\n",
              "      <td>0.377436</td>\n",
              "      <td>-1.387024</td>\n",
              "      <td>...</td>\n",
              "      <td>-0.108300</td>\n",
              "      <td>0.005274</td>\n",
              "      <td>-0.190321</td>\n",
              "      <td>-1.175575</td>\n",
              "      <td>0.647376</td>\n",
              "      <td>-0.221929</td>\n",
              "      <td>0.062723</td>\n",
              "      <td>0.061458</td>\n",
              "      <td>123.50</td>\n",
              "      <td>0.0</td>\n",
              "    </tr>\n",
              "    <tr>\n",
              "      <th>4</th>\n",
              "      <td>2</td>\n",
              "      <td>-1.158233</td>\n",
              "      <td>0.877737</td>\n",
              "      <td>1.548718</td>\n",
              "      <td>0.403034</td>\n",
              "      <td>-0.407193</td>\n",
              "      <td>0.095921</td>\n",
              "      <td>0.592941</td>\n",
              "      <td>-0.270533</td>\n",
              "      <td>0.817739</td>\n",
              "      <td>...</td>\n",
              "      <td>-0.009431</td>\n",
              "      <td>0.798278</td>\n",
              "      <td>-0.137458</td>\n",
              "      <td>0.141267</td>\n",
              "      <td>-0.206010</td>\n",
              "      <td>0.502292</td>\n",
              "      <td>0.219422</td>\n",
              "      <td>0.215153</td>\n",
              "      <td>69.99</td>\n",
              "      <td>0.0</td>\n",
              "    </tr>\n",
              "  </tbody>\n",
              "</table>\n",
              "<p>5 rows × 31 columns</p>\n",
              "</div>\n",
              "      <button class=\"colab-df-convert\" onclick=\"convertToInteractive('df-285c7313-7113-4108-9e15-6f85e5ff184b')\"\n",
              "              title=\"Convert this dataframe to an interactive table.\"\n",
              "              style=\"display:none;\">\n",
              "        \n",
              "  <svg xmlns=\"http://www.w3.org/2000/svg\" height=\"24px\"viewBox=\"0 0 24 24\"\n",
              "       width=\"24px\">\n",
              "    <path d=\"M0 0h24v24H0V0z\" fill=\"none\"/>\n",
              "    <path d=\"M18.56 5.44l.94 2.06.94-2.06 2.06-.94-2.06-.94-.94-2.06-.94 2.06-2.06.94zm-11 1L8.5 8.5l.94-2.06 2.06-.94-2.06-.94L8.5 2.5l-.94 2.06-2.06.94zm10 10l.94 2.06.94-2.06 2.06-.94-2.06-.94-.94-2.06-.94 2.06-2.06.94z\"/><path d=\"M17.41 7.96l-1.37-1.37c-.4-.4-.92-.59-1.43-.59-.52 0-1.04.2-1.43.59L10.3 9.45l-7.72 7.72c-.78.78-.78 2.05 0 2.83L4 21.41c.39.39.9.59 1.41.59.51 0 1.02-.2 1.41-.59l7.78-7.78 2.81-2.81c.8-.78.8-2.07 0-2.86zM5.41 20L4 18.59l7.72-7.72 1.47 1.35L5.41 20z\"/>\n",
              "  </svg>\n",
              "      </button>\n",
              "      \n",
              "  <style>\n",
              "    .colab-df-container {\n",
              "      display:flex;\n",
              "      flex-wrap:wrap;\n",
              "      gap: 12px;\n",
              "    }\n",
              "\n",
              "    .colab-df-convert {\n",
              "      background-color: #E8F0FE;\n",
              "      border: none;\n",
              "      border-radius: 50%;\n",
              "      cursor: pointer;\n",
              "      display: none;\n",
              "      fill: #1967D2;\n",
              "      height: 32px;\n",
              "      padding: 0 0 0 0;\n",
              "      width: 32px;\n",
              "    }\n",
              "\n",
              "    .colab-df-convert:hover {\n",
              "      background-color: #E2EBFA;\n",
              "      box-shadow: 0px 1px 2px rgba(60, 64, 67, 0.3), 0px 1px 3px 1px rgba(60, 64, 67, 0.15);\n",
              "      fill: #174EA6;\n",
              "    }\n",
              "\n",
              "    [theme=dark] .colab-df-convert {\n",
              "      background-color: #3B4455;\n",
              "      fill: #D2E3FC;\n",
              "    }\n",
              "\n",
              "    [theme=dark] .colab-df-convert:hover {\n",
              "      background-color: #434B5C;\n",
              "      box-shadow: 0px 1px 3px 1px rgba(0, 0, 0, 0.15);\n",
              "      filter: drop-shadow(0px 1px 2px rgba(0, 0, 0, 0.3));\n",
              "      fill: #FFFFFF;\n",
              "    }\n",
              "  </style>\n",
              "\n",
              "      <script>\n",
              "        const buttonEl =\n",
              "          document.querySelector('#df-285c7313-7113-4108-9e15-6f85e5ff184b button.colab-df-convert');\n",
              "        buttonEl.style.display =\n",
              "          google.colab.kernel.accessAllowed ? 'block' : 'none';\n",
              "\n",
              "        async function convertToInteractive(key) {\n",
              "          const element = document.querySelector('#df-285c7313-7113-4108-9e15-6f85e5ff184b');\n",
              "          const dataTable =\n",
              "            await google.colab.kernel.invokeFunction('convertToInteractive',\n",
              "                                                     [key], {});\n",
              "          if (!dataTable) return;\n",
              "\n",
              "          const docLinkHtml = 'Like what you see? Visit the ' +\n",
              "            '<a target=\"_blank\" href=https://colab.research.google.com/notebooks/data_table.ipynb>data table notebook</a>'\n",
              "            + ' to learn more about interactive tables.';\n",
              "          element.innerHTML = '';\n",
              "          dataTable['output_type'] = 'display_data';\n",
              "          await google.colab.output.renderOutput(dataTable, element);\n",
              "          const docLink = document.createElement('div');\n",
              "          docLink.innerHTML = docLinkHtml;\n",
              "          element.appendChild(docLink);\n",
              "        }\n",
              "      </script>\n",
              "    </div>\n",
              "  </div>\n",
              "  "
            ]
          },
          "metadata": {},
          "execution_count": 69
        }
      ]
    },
    {
      "cell_type": "code",
      "source": [
        "data.shape"
      ],
      "metadata": {
        "id": "g0qJbGgWwn6x",
        "colab": {
          "base_uri": "https://localhost:8080/"
        },
        "outputId": "c2331490-5bb3-4474-e067-edf54da65159"
      },
      "execution_count": 70,
      "outputs": [
        {
          "output_type": "execute_result",
          "data": {
            "text/plain": [
              "(97142, 31)"
            ]
          },
          "metadata": {},
          "execution_count": 70
        }
      ]
    },
    {
      "cell_type": "code",
      "source": [
        "sns.countplot(x=data['Class'])\n",
        "data[\"Class\"].value_counts()"
      ],
      "metadata": {
        "id": "LsQqjxgCwvfd",
        "colab": {
          "base_uri": "https://localhost:8080/",
          "height": 446
        },
        "outputId": "fa4e826a-e7ce-4cd5-be37-5be9030e7241"
      },
      "execution_count": 71,
      "outputs": [
        {
          "output_type": "execute_result",
          "data": {
            "text/plain": [
              "0.0    96919\n",
              "1.0      222\n",
              "Name: Class, dtype: int64"
            ]
          },
          "metadata": {},
          "execution_count": 71
        },
        {
          "output_type": "display_data",
          "data": {
            "text/plain": [
              "<Figure size 576x432 with 1 Axes>"
            ],
            "image/png": "[encoded data removed]"
          },
          "metadata": {
            "needs_background": "light"
          }
        }
      ]
    },
    {
      "cell_type": "code",
      "source": [
        "plt.rcParams[\"figure.figsize\"] = \"8,6\"\n",
        "font = {'size': 12}\n",
        "plt.rc('font', **font)\n",
        "\n",
        "# Adding titles to the plots and axes\n",
        "plt.title(\"Distribution of Amount over Both Classes\")\n",
        "plt.xlabel(\"Amount\")\n",
        "plt.ylabel(\"Class\")\n",
        "\n",
        "# Plotting the Amount column vs. Class Column\n",
        "plt.scatter(data[\"Amount\"],data[\"Class\"])"
      ],
      "metadata": {
        "id": "WwZE3spyxEx9",
        "colab": {
          "base_uri": "https://localhost:8080/",
          "height": 428
        },
        "outputId": "bec6a195-31b6-45e5-cae2-43d3d3ab9f50"
      },
      "execution_count": 72,
      "outputs": [
        {
          "output_type": "execute_result",
          "data": {
            "text/plain": [
              "<matplotlib.collections.PathCollection at 0x7f892073ffd0>"
            ]
          },
          "metadata": {},
          "execution_count": 72
        },
        {
          "output_type": "display_data",
          "data": {
            "text/plain": [
              "<Figure size 576x432 with 1 Axes>"
            ],
            "image/png": "[encoded data removed]"
          },
          "metadata": {
            "needs_background": "light"
          }
        }
      ]
    },
    {
      "cell_type": "code",
      "source": [
        "plt.rcParams[\"figure.figsize\"] = \"8,6\"\n",
        "font = {'size': 12}\n",
        "plt.rc('font', **font)\n",
        "\n",
        "# Adding titles to the plots and axes\n",
        "plt.title(\"Distribution of Time over Both Classes\")\n",
        "plt.xlabel(\"Time\")\n",
        "plt.ylabel(\"Class\")\n",
        "\n",
        "# Plotting the Time column vs. Class Column\n",
        "plt.scatter(data[\"Time\"],data[\"Class\"])"
      ],
      "metadata": {
        "id": "PG8EqSuuy0Tp",
        "colab": {
          "base_uri": "https://localhost:8080/",
          "height": 428
        },
        "outputId": "18957c42-2df3-45db-db2e-fc8e5c3ce4df"
      },
      "execution_count": 73,
      "outputs": [
        {
          "output_type": "execute_result",
          "data": {
            "text/plain": [
              "<matplotlib.collections.PathCollection at 0x7f89206b8e10>"
            ]
          },
          "metadata": {},
          "execution_count": 73
        },
        {
          "output_type": "display_data",
          "data": {
            "text/plain": [
              "<Figure size 576x432 with 1 Axes>"
            ],
            "image/png": "[encoded data removed]"
          },
          "metadata": {
            "needs_background": "light"
          }
        }
      ]
    },
    {
      "cell_type": "code",
      "source": [
        "correlation = data.corr()\n",
        "fig = plt.subplots(figsize=(15,15)) \n",
        "sns.heatmap(correlation, vmax= 1 )"
      ],
      "metadata": {
        "id": "w0_XtsLmzDKB",
        "colab": {
          "base_uri": "https://localhost:8080/",
          "height": 923
        },
        "outputId": "6fd99f80-d0f7-4d0c-8c31-7a5987ea3823"
      },
      "execution_count": 74,
      "outputs": [
        {
          "output_type": "execute_result",
          "data": {
            "text/plain": [
              "<matplotlib.axes._subplots.AxesSubplot at 0x7f8920715dd0>"
            ]
          },
          "metadata": {},
          "execution_count": 74
        },
        {
          "output_type": "display_data",
          "data": {
            "text/plain": [
              "<Figure size 1080x1080 with 2 Axes>"
            ],
            "image/png": "[encoded data removed]"
          },
          "metadata": {
            "needs_background": "light"
          }
        }
      ]
    },
    {
      "cell_type": "code",
      "source": [
        "from sklearn.preprocessing import StandardScaler"
      ],
      "metadata": {
        "id": "b824BYMK4pz_"
      },
      "execution_count": 75,
      "outputs": []
    },
    {
      "cell_type": "code",
      "source": [
        "scaler = StandardScaler()\n"
      ],
      "metadata": {
        "id": "D5Z3B3n74sdG"
      },
      "execution_count": 76,
      "outputs": []
    },
    {
      "cell_type": "code",
      "source": [
        "data_clean = data.copy()"
      ],
      "metadata": {
        "id": "slwfb21k30d5"
      },
      "execution_count": 77,
      "outputs": []
    },
    {
      "cell_type": "code",
      "source": [
        "data_clean['Scaler_amount'] = scaler.fit_transform(data_clean['Amount'].values.reshape(-1, 1))\n",
        "data_clean['Scaler_time'] = scaler.fit_transform(data_clean['Time'].values.reshape(-1, 1))"
      ],
      "metadata": {
        "id": "l0RVHA3Mzbat"
      },
      "execution_count": 78,
      "outputs": []
    },
    {
      "cell_type": "code",
      "source": [
        "data_clean.drop(['Time','Amount'], axis = 1, inplace = True)"
      ],
      "metadata": {
        "id": "tnYV-OhN5LUa"
      },
      "execution_count": 79,
      "outputs": []
    },
    {
      "cell_type": "code",
      "source": [
        "data_clean.head()"
      ],
      "metadata": {
        "id": "C2Rr5WKT5o39",
        "colab": {
          "base_uri": "https://localhost:8080/",
          "height": 300
        },
        "outputId": "d62a70a9-c1d7-479c-d7a8-ba030c25b295"
      },
      "execution_count": 80,
      "outputs": [
        {
          "output_type": "execute_result",
          "data": {
            "text/plain": [
              "         V1        V2        V3        V4        V5        V6        V7  \\\n",
              "0 -1.359807 -0.072781  2.536347  1.378155 -0.338321  0.462388  0.239599   \n",
              "1  1.191857  0.266151  0.166480  0.448154  0.060018 -0.082361 -0.078803   \n",
              "2 -1.358354 -1.340163  1.773209  0.379780 -0.503198  1.800499  0.791461   \n",
              "3 -0.966272 -0.185226  1.792993 -0.863291 -0.010309  1.247203  0.237609   \n",
              "4 -1.158233  0.877737  1.548718  0.403034 -0.407193  0.095921  0.592941   \n",
              "\n",
              "         V8        V9       V10  ...       V22       V23       V24       V25  \\\n",
              "0  0.098698  0.363787  0.090794  ...  0.277838 -0.110474  0.066928  0.128539   \n",
              "1  0.085102 -0.255425 -0.166974  ... -0.638672  0.101288 -0.339846  0.167170   \n",
              "2  0.247676 -1.514654  0.207643  ...  0.771679  0.909412 -0.689281 -0.327642   \n",
              "3  0.377436 -1.387024 -0.054952  ...  0.005274 -0.190321 -1.175575  0.647376   \n",
              "4 -0.270533  0.817739  0.753074  ...  0.798278 -0.137458  0.141267 -0.206010   \n",
              "\n",
              "        V26       V27       V28  Class  Scaler_amount  Scaler_time  \n",
              "0 -0.189115  0.133558 -0.021053    0.0       0.192785    -2.487852  \n",
              "1  0.125895 -0.008983  0.014724    0.0      -0.359670    -2.487852  \n",
              "2 -0.139097 -0.055353 -0.059752    0.0       1.053971    -2.487792  \n",
              "3 -0.221929  0.062723  0.061458    0.0       0.094574    -2.487792  \n",
              "4  0.502292  0.219422  0.215153    0.0      -0.106623    -2.487732  \n",
              "\n",
              "[5 rows x 31 columns]"
            ],
            "text/html": [
              "\n",
              "  <div id=\"df-3160e945-6bc0-4bde-8b5a-6b776474b73a\">\n",
              "    <div class=\"colab-df-container\">\n",
              "      <div>\n",
              "<style scoped>\n",
              "    .dataframe tbody tr th:only-of-type {\n",
              "        vertical-align: middle;\n",
              "    }\n",
              "\n",
              "    .dataframe tbody tr th {\n",
              "        vertical-align: top;\n",
              "    }\n",
              "\n",
              "    .dataframe thead th {\n",
              "        text-align: right;\n",
              "    }\n",
              "</style>\n",
              "<table border=\"1\" class=\"dataframe\">\n",
              "  <thead>\n",
              "    <tr style=\"text-align: right;\">\n",
              "      <th></th>\n",
              "      <th>V1</th>\n",
              "      <th>V2</th>\n",
              "      <th>V3</th>\n",
              "      <th>V4</th>\n",
              "      <th>V5</th>\n",
              "      <th>V6</th>\n",
              "      <th>V7</th>\n",
              "      <th>V8</th>\n",
              "      <th>V9</th>\n",
              "      <th>V10</th>\n",
              "      <th>...</th>\n",
              "      <th>V22</th>\n",
              "      <th>V23</th>\n",
              "      <th>V24</th>\n",
              "      <th>V25</th>\n",
              "      <th>V26</th>\n",
              "      <th>V27</th>\n",
              "      <th>V28</th>\n",
              "      <th>Class</th>\n",
              "      <th>Scaler_amount</th>\n",
              "      <th>Scaler_time</th>\n",
              "    </tr>\n",
              "  </thead>\n",
              "  <tbody>\n",
              "    <tr>\n",
              "      <th>0</th>\n",
              "      <td>-1.359807</td>\n",
              "      <td>-0.072781</td>\n",
              "      <td>2.536347</td>\n",
              "      <td>1.378155</td>\n",
              "      <td>-0.338321</td>\n",
              "      <td>0.462388</td>\n",
              "      <td>0.239599</td>\n",
              "      <td>0.098698</td>\n",
              "      <td>0.363787</td>\n",
              "      <td>0.090794</td>\n",
              "      <td>...</td>\n",
              "      <td>0.277838</td>\n",
              "      <td>-0.110474</td>\n",
              "      <td>0.066928</td>\n",
              "      <td>0.128539</td>\n",
              "      <td>-0.189115</td>\n",
              "      <td>0.133558</td>\n",
              "      <td>-0.021053</td>\n",
              "      <td>0.0</td>\n",
              "      <td>0.192785</td>\n",
              "      <td>-2.487852</td>\n",
              "    </tr>\n",
              "    <tr>\n",
              "      <th>1</th>\n",
              "      <td>1.191857</td>\n",
              "      <td>0.266151</td>\n",
              "      <td>0.166480</td>\n",
              "      <td>0.448154</td>\n",
              "      <td>0.060018</td>\n",
              "      <td>-0.082361</td>\n",
              "      <td>-0.078803</td>\n",
              "      <td>0.085102</td>\n",
              "      <td>-0.255425</td>\n",
              "      <td>-0.166974</td>\n",
              "      <td>...</td>\n",
              "      <td>-0.638672</td>\n",
              "      <td>0.101288</td>\n",
              "      <td>-0.339846</td>\n",
              "      <td>0.167170</td>\n",
              "      <td>0.125895</td>\n",
              "      <td>-0.008983</td>\n",
              "      <td>0.014724</td>\n",
              "      <td>0.0</td>\n",
              "      <td>-0.359670</td>\n",
              "      <td>-2.487852</td>\n",
              "    </tr>\n",
              "    <tr>\n",
              "      <th>2</th>\n",
              "      <td>-1.358354</td>\n",
              "      <td>-1.340163</td>\n",
              "      <td>1.773209</td>\n",
              "      <td>0.379780</td>\n",
              "      <td>-0.503198</td>\n",
              "      <td>1.800499</td>\n",
              "      <td>0.791461</td>\n",
              "      <td>0.247676</td>\n",
              "      <td>-1.514654</td>\n",
              "      <td>0.207643</td>\n",
              "      <td>...</td>\n",
              "      <td>0.771679</td>\n",
              "      <td>0.909412</td>\n",
              "      <td>-0.689281</td>\n",
              "      <td>-0.327642</td>\n",
              "      <td>-0.139097</td>\n",
              "      <td>-0.055353</td>\n",
              "      <td>-0.059752</td>\n",
              "      <td>0.0</td>\n",
              "      <td>1.053971</td>\n",
              "      <td>-2.487792</td>\n",
              "    </tr>\n",
              "    <tr>\n",
              "      <th>3</th>\n",
              "      <td>-0.966272</td>\n",
              "      <td>-0.185226</td>\n",
              "      <td>1.792993</td>\n",
              "      <td>-0.863291</td>\n",
              "      <td>-0.010309</td>\n",
              "      <td>1.247203</td>\n",
              "      <td>0.237609</td>\n",
              "      <td>0.377436</td>\n",
              "      <td>-1.387024</td>\n",
              "      <td>-0.054952</td>\n",
              "      <td>...</td>\n",
              "      <td>0.005274</td>\n",
              "      <td>-0.190321</td>\n",
              "      <td>-1.175575</td>\n",
              "      <td>0.647376</td>\n",
              "      <td>-0.221929</td>\n",
              "      <td>0.062723</td>\n",
              "      <td>0.061458</td>\n",
              "      <td>0.0</td>\n",
              "      <td>0.094574</td>\n",
              "      <td>-2.487792</td>\n",
              "    </tr>\n",
              "    <tr>\n",
              "      <th>4</th>\n",
              "      <td>-1.158233</td>\n",
              "      <td>0.877737</td>\n",
              "      <td>1.548718</td>\n",
              "      <td>0.403034</td>\n",
              "      <td>-0.407193</td>\n",
              "      <td>0.095921</td>\n",
              "      <td>0.592941</td>\n",
              "      <td>-0.270533</td>\n",
              "      <td>0.817739</td>\n",
              "      <td>0.753074</td>\n",
              "      <td>...</td>\n",
              "      <td>0.798278</td>\n",
              "      <td>-0.137458</td>\n",
              "      <td>0.141267</td>\n",
              "      <td>-0.206010</td>\n",
              "      <td>0.502292</td>\n",
              "      <td>0.219422</td>\n",
              "      <td>0.215153</td>\n",
              "      <td>0.0</td>\n",
              "      <td>-0.106623</td>\n",
              "      <td>-2.487732</td>\n",
              "    </tr>\n",
              "  </tbody>\n",
              "</table>\n",
              "<p>5 rows × 31 columns</p>\n",
              "</div>\n",
              "      <button class=\"colab-df-convert\" onclick=\"convertToInteractive('df-3160e945-6bc0-4bde-8b5a-6b776474b73a')\"\n",
              "              title=\"Convert this dataframe to an interactive table.\"\n",
              "              style=\"display:none;\">\n",
              "        \n",
              "  <svg xmlns=\"http://www.w3.org/2000/svg\" height=\"24px\"viewBox=\"0 0 24 24\"\n",
              "       width=\"24px\">\n",
              "    <path d=\"M0 0h24v24H0V0z\" fill=\"none\"/>\n",
              "    <path d=\"M18.56 5.44l.94 2.06.94-2.06 2.06-.94-2.06-.94-.94-2.06-.94 2.06-2.06.94zm-11 1L8.5 8.5l.94-2.06 2.06-.94-2.06-.94L8.5 2.5l-.94 2.06-2.06.94zm10 10l.94 2.06.94-2.06 2.06-.94-2.06-.94-.94-2.06-.94 2.06-2.06.94z\"/><path d=\"M17.41 7.96l-1.37-1.37c-.4-.4-.92-.59-1.43-.59-.52 0-1.04.2-1.43.59L10.3 9.45l-7.72 7.72c-.78.78-.78 2.05 0 2.83L4 21.41c.39.39.9.59 1.41.59.51 0 1.02-.2 1.41-.59l7.78-7.78 2.81-2.81c.8-.78.8-2.07 0-2.86zM5.41 20L4 18.59l7.72-7.72 1.47 1.35L5.41 20z\"/>\n",
              "  </svg>\n",
              "      </button>\n",
              "      \n",
              "  <style>\n",
              "    .colab-df-container {\n",
              "      display:flex;\n",
              "      flex-wrap:wrap;\n",
              "      gap: 12px;\n",
              "    }\n",
              "\n",
              "    .colab-df-convert {\n",
              "      background-color: #E8F0FE;\n",
              "      border: none;\n",
              "      border-radius: 50%;\n",
              "      cursor: pointer;\n",
              "      display: none;\n",
              "      fill: #1967D2;\n",
              "      height: 32px;\n",
              "      padding: 0 0 0 0;\n",
              "      width: 32px;\n",
              "    }\n",
              "\n",
              "    .colab-df-convert:hover {\n",
              "      background-color: #E2EBFA;\n",
              "      box-shadow: 0px 1px 2px rgba(60, 64, 67, 0.3), 0px 1px 3px 1px rgba(60, 64, 67, 0.15);\n",
              "      fill: #174EA6;\n",
              "    }\n",
              "\n",
              "    [theme=dark] .colab-df-convert {\n",
              "      background-color: #3B4455;\n",
              "      fill: #D2E3FC;\n",
              "    }\n",
              "\n",
              "    [theme=dark] .colab-df-convert:hover {\n",
              "      background-color: #434B5C;\n",
              "      box-shadow: 0px 1px 3px 1px rgba(0, 0, 0, 0.15);\n",
              "      filter: drop-shadow(0px 1px 2px rgba(0, 0, 0, 0.3));\n",
              "      fill: #FFFFFF;\n",
              "    }\n",
              "  </style>\n",
              "\n",
              "      <script>\n",
              "        const buttonEl =\n",
              "          document.querySelector('#df-3160e945-6bc0-4bde-8b5a-6b776474b73a button.colab-df-convert');\n",
              "        buttonEl.style.display =\n",
              "          google.colab.kernel.accessAllowed ? 'block' : 'none';\n",
              "\n",
              "        async function convertToInteractive(key) {\n",
              "          const element = document.querySelector('#df-3160e945-6bc0-4bde-8b5a-6b776474b73a');\n",
              "          const dataTable =\n",
              "            await google.colab.kernel.invokeFunction('convertToInteractive',\n",
              "                                                     [key], {});\n",
              "          if (!dataTable) return;\n",
              "\n",
              "          const docLinkHtml = 'Like what you see? Visit the ' +\n",
              "            '<a target=\"_blank\" href=https://colab.research.google.com/notebooks/data_table.ipynb>data table notebook</a>'\n",
              "            + ' to learn more about interactive tables.';\n",
              "          element.innerHTML = '';\n",
              "          dataTable['output_type'] = 'display_data';\n",
              "          await google.colab.output.renderOutput(dataTable, element);\n",
              "          const docLink = document.createElement('div');\n",
              "          docLink.innerHTML = docLinkHtml;\n",
              "          element.appendChild(docLink);\n",
              "        }\n",
              "      </script>\n",
              "    </div>\n",
              "  </div>\n",
              "  "
            ]
          },
          "metadata": {},
          "execution_count": 80
        }
      ]
    },
    {
      "cell_type": "code",
      "source": [
        "percent = (data_clean.isnull().sum() / 79317)"
      ],
      "metadata": {
        "id": "QCRBP_5qHqgv"
      },
      "execution_count": 81,
      "outputs": []
    },
    {
      "cell_type": "code",
      "source": [
        "print(percent)"
      ],
      "metadata": {
        "id": "nkr6MdFbS54h",
        "colab": {
          "base_uri": "https://localhost:8080/"
        },
        "outputId": "33aa0aa5-4b7b-44f3-d5ec-5736716c12d9"
      },
      "execution_count": 82,
      "outputs": [
        {
          "output_type": "stream",
          "name": "stdout",
          "text": [
            "V1               0.000000\n",
            "V2               0.000000\n",
            "V3               0.000000\n",
            "V4               0.000000\n",
            "V5               0.000000\n",
            "V6               0.000000\n",
            "V7               0.000000\n",
            "V8               0.000000\n",
            "V9               0.000000\n",
            "V10              0.000000\n",
            "V11              0.000000\n",
            "V12              0.000000\n",
            "V13              0.000000\n",
            "V14              0.000000\n",
            "V15              0.000000\n",
            "V16              0.000000\n",
            "V17              0.000000\n",
            "V18              0.000000\n",
            "V19              0.000013\n",
            "V20              0.000013\n",
            "V21              0.000013\n",
            "V22              0.000013\n",
            "V23              0.000013\n",
            "V24              0.000013\n",
            "V25              0.000013\n",
            "V26              0.000013\n",
            "V27              0.000013\n",
            "V28              0.000013\n",
            "Class            0.000013\n",
            "Scaler_amount    0.000013\n",
            "Scaler_time      0.000000\n",
            "dtype: float64\n"
          ]
        }
      ]
    },
    {
      "cell_type": "code",
      "source": [
        "data_clean = data_clean.dropna()"
      ],
      "metadata": {
        "id": "A7cf7fA0TOYH"
      },
      "execution_count": 83,
      "outputs": []
    },
    {
      "cell_type": "code",
      "source": [
        "percent = (data_clean.isnull().sum() / 79317)\n",
        "print(percent)"
      ],
      "metadata": {
        "id": "uBIGttIrVydO",
        "colab": {
          "base_uri": "https://localhost:8080/"
        },
        "outputId": "39ea4516-880f-4b8c-caef-1c978e541d2e"
      },
      "execution_count": 84,
      "outputs": [
        {
          "output_type": "stream",
          "name": "stdout",
          "text": [
            "V1               0.0\n",
            "V2               0.0\n",
            "V3               0.0\n",
            "V4               0.0\n",
            "V5               0.0\n",
            "V6               0.0\n",
            "V7               0.0\n",
            "V8               0.0\n",
            "V9               0.0\n",
            "V10              0.0\n",
            "V11              0.0\n",
            "V12              0.0\n",
            "V13              0.0\n",
            "V14              0.0\n",
            "V15              0.0\n",
            "V16              0.0\n",
            "V17              0.0\n",
            "V18              0.0\n",
            "V19              0.0\n",
            "V20              0.0\n",
            "V21              0.0\n",
            "V22              0.0\n",
            "V23              0.0\n",
            "V24              0.0\n",
            "V25              0.0\n",
            "V26              0.0\n",
            "V27              0.0\n",
            "V28              0.0\n",
            "Class            0.0\n",
            "Scaler_amount    0.0\n",
            "Scaler_time      0.0\n",
            "dtype: float64\n"
          ]
        }
      ]
    },
    {
      "cell_type": "code",
      "source": [
        "X = data_clean.drop('Class', axis=1)\n",
        "y = data_clean['Class']"
      ],
      "metadata": {
        "id": "QA4DVr095z7A"
      },
      "execution_count": 85,
      "outputs": []
    },
    {
      "cell_type": "code",
      "source": [
        "X_train, X_test, y_train, y_test =  train_test_split(X, y, test_size = 0.3, random_state = 42,shuffle=True)"
      ],
      "metadata": {
        "id": "EQgYGM2l1IhI"
      },
      "execution_count": 86,
      "outputs": []
    },
    {
      "cell_type": "code",
      "source": [
        "from imblearn.under_sampling import RandomUnderSampler\n",
        "rus = RandomUnderSampler()\n",
        "X_rus, y_rus = rus.fit_resample(X_train, y_train)\n",
        "print(pd.Series(y_rus).value_counts())\n",
        "sns.countplot(y_rus);"
      ],
      "metadata": {
        "id": "q-2EJsgZNxmf",
        "colab": {
          "base_uri": "https://localhost:8080/",
          "height": 503
        },
        "outputId": "0626d342-3e86-40cf-f8ef-88dda9b8ab69"
      },
      "execution_count": 87,
      "outputs": [
        {
          "output_type": "stream",
          "name": "stdout",
          "text": [
            "0.0    154\n",
            "1.0    154\n",
            "Name: Class, dtype: int64\n"
          ]
        },
        {
          "output_type": "stream",
          "name": "stderr",
          "text": [
            "/usr/local/lib/python3.7/dist-packages/seaborn/_decorators.py:43: FutureWarning: Pass the following variable as a keyword arg: x. From version 0.12, the only valid positional argument will be `data`, and passing other arguments without an explicit keyword will result in an error or misinterpretation.\n",
            "  FutureWarning\n"
          ]
        },
        {
          "output_type": "display_data",
          "data": {
            "text/plain": [
              "<Figure size 576x432 with 1 Axes>"
            ],
            "image/png": "[encoded data removed]"
          },
          "metadata": {
            "needs_background": "light"
          }
        }
      ]
    },
    {
      "cell_type": "code",
      "source": [
        ""
      ],
      "metadata": {
        "id": "3G9qVAVNOGBz"
      },
      "execution_count": 87,
      "outputs": []
    },
    {
      "cell_type": "code",
      "source": [
        "smote = SMOTE()"
      ],
      "metadata": {
        "id": "tYNmsqcUOJQF"
      },
      "execution_count": 88,
      "outputs": []
    },
    {
      "cell_type": "code",
      "source": [
        "X_smo, y_smo = smote.fit_resample(X_train,y_train)"
      ],
      "metadata": {
        "id": "36oy-p-gOPMp"
      },
      "execution_count": 89,
      "outputs": []
    },
    {
      "cell_type": "code",
      "source": [
        "print(pd.Series(y_smo).value_counts())# Plot the new Class distribution\n",
        "sns.countplot(y_smo);"
      ],
      "metadata": {
        "id": "G_UdO7PeOdx4",
        "colab": {
          "base_uri": "https://localhost:8080/",
          "height": 501
        },
        "outputId": "168e0925-f737-4f5c-b29d-a167ac0aaf72"
      },
      "execution_count": 90,
      "outputs": [
        {
          "output_type": "stream",
          "name": "stdout",
          "text": [
            "0.0    67844\n",
            "1.0    67844\n",
            "Name: Class, dtype: int64\n"
          ]
        },
        {
          "output_type": "stream",
          "name": "stderr",
          "text": [
            "/usr/local/lib/python3.7/dist-packages/seaborn/_decorators.py:43: FutureWarning: Pass the following variable as a keyword arg: x. From version 0.12, the only valid positional argument will be `data`, and passing other arguments without an explicit keyword will result in an error or misinterpretation.\n",
            "  FutureWarning\n"
          ]
        },
        {
          "output_type": "display_data",
          "data": {
            "text/plain": [
              "<Figure size 576x432 with 1 Axes>"
            ],
            "image/png": "[encoded data removed]"
          },
          "metadata": {
            "needs_background": "light"
          }
        }
      ]
    },
    {
      "cell_type": "code",
      "source": [
        "from imblearn.over_sampling import ADASYN\n",
        "ada = ADASYN()\n",
        "X_ada, y_ada = ada.fit_resample(X_train, y_train)\n",
        "print(pd.Series(y_ada).value_counts())\n",
        "sns.countplot(y_ada);"
      ],
      "metadata": {
        "id": "nTFnKTz2Ptgo",
        "colab": {
          "base_uri": "https://localhost:8080/",
          "height": 501
        },
        "outputId": "e63b958c-51a8-41f5-f5af-b49fe6cd5741"
      },
      "execution_count": 91,
      "outputs": [
        {
          "output_type": "stream",
          "name": "stdout",
          "text": [
            "0.0    67844\n",
            "1.0    67836\n",
            "Name: Class, dtype: int64\n"
          ]
        },
        {
          "output_type": "stream",
          "name": "stderr",
          "text": [
            "/usr/local/lib/python3.7/dist-packages/seaborn/_decorators.py:43: FutureWarning: Pass the following variable as a keyword arg: x. From version 0.12, the only valid positional argument will be `data`, and passing other arguments without an explicit keyword will result in an error or misinterpretation.\n",
            "  FutureWarning\n"
          ]
        },
        {
          "output_type": "display_data",
          "data": {
            "text/plain": [
              "<Figure size 576x432 with 1 Axes>"
            ],
            "image/png": "[encoded data removed]"
          },
          "metadata": {
            "needs_background": "light"
          }
        }
      ]
    },
    {
      "cell_type": "code",
      "source": [
        "randomFlorest =  RandomForestClassifier(n_estimators= 15, random_state = 42)\n",
        "randomFlorest.fit(X_train,y_train)\n",
        "predicition_randomFlorest = randomFlorest.predict(X_test)"
      ],
      "metadata": {
        "id": "aI9UcKrHRbg4"
      },
      "execution_count": 92,
      "outputs": []
    },
    {
      "cell_type": "code",
      "source": [
        "precision = precision_score(y_test, predicition_randomFlorest)\n",
        "recall = recall_score(y_test, predicition_randomFlorest)\n",
        "f1 = f1_score(y_test, predicition_randomFlorest)\n",
        "print(\"precision :\",precision, \"Recall :\",recall,\"F-score :\",f1)"
      ],
      "metadata": {
        "colab": {
          "base_uri": "https://localhost:8080/"
        },
        "id": "U_XbF1yfm0Ez",
        "outputId": "7e19f8f7-3c9d-44e3-8406-8d2b9fc66e39"
      },
      "execution_count": 93,
      "outputs": [
        {
          "output_type": "stream",
          "name": "stdout",
          "text": [
            "precision : 0.9622641509433962 Recall : 0.75 F-score : 0.8429752066115702\n"
          ]
        }
      ]
    },
    {
      "cell_type": "code",
      "source": [
        "randomFlorest_rus =  RandomForestClassifier(n_estimators= 15, random_state = 42)\n",
        "randomFlorest_rus.fit(X_rus,y_rus)\n",
        "predicition_randomFlorest_rus = randomFlorest_rus.predict(X_test)"
      ],
      "metadata": {
        "id": "bKNob8c6nYxi"
      },
      "execution_count": 94,
      "outputs": []
    },
    {
      "cell_type": "code",
      "source": [
        "precision = precision_score(y_test, predicition_randomFlorest_rus)\n",
        "recall = recall_score(y_test, predicition_randomFlorest_rus)\n",
        "f1 = f1_score(y_test, predicition_randomFlorest_rus)\n",
        "print(\"precision :\",precision, \"Recall :\",recall,\"F-score :\",f1)"
      ],
      "metadata": {
        "id": "Fd9WBMwxRxji",
        "colab": {
          "base_uri": "https://localhost:8080/"
        },
        "outputId": "8092e5dd-1d7e-43b4-ac13-17c9f4cdbecb"
      },
      "execution_count": 95,
      "outputs": [
        {
          "output_type": "stream",
          "name": "stdout",
          "text": [
            "precision : 0.0403172504957039 Recall : 0.8970588235294118 F-score : 0.07716635041113219\n"
          ]
        }
      ]
    },
    {
      "cell_type": "code",
      "source": [
        "randomFlorest_smo =  RandomForestClassifier(n_estimators= 15, random_state = 42)\n",
        "randomFlorest_smo.fit(X_smo,y_smo)\n",
        "predicition_randomFlorest_smo = randomFlorest_smo.predict(X_test)"
      ],
      "metadata": {
        "id": "GZrA7MYoP07r"
      },
      "execution_count": 96,
      "outputs": []
    },
    {
      "cell_type": "code",
      "source": [
        "precision = precision_score(y_test, predicition_randomFlorest_smo)\n",
        "recall = recall_score(y_test, predicition_randomFlorest_smo)\n",
        "f1 = f1_score(y_test, predicition_randomFlorest_smo)\n",
        "print(\"precision :\",precision, \"Recall :\",recall,\"F-score :\",f1)"
      ],
      "metadata": {
        "id": "dMykt2nWQBaH",
        "colab": {
          "base_uri": "https://localhost:8080/"
        },
        "outputId": "97bf4680-9618-40ca-c569-5ea8d1ae280d"
      },
      "execution_count": 97,
      "outputs": [
        {
          "output_type": "stream",
          "name": "stdout",
          "text": [
            "precision : 0.8983050847457628 Recall : 0.7794117647058824 F-score : 0.8346456692913385\n"
          ]
        }
      ]
    },
    {
      "cell_type": "code",
      "source": [
        "randomFlorest_ada =  RandomForestClassifier(n_estimators= 15, random_state = 42)\n",
        "randomFlorest_ada.fit(X_ada,y_ada)\n",
        "predicition_randomFlorest_ada = randomFlorest_ada.predict(X_test)"
      ],
      "metadata": {
        "id": "JQtxiBbZQKws"
      },
      "execution_count": 98,
      "outputs": []
    },
    {
      "cell_type": "code",
      "source": [
        "precision = precision_score(y_test, predicition_randomFlorest_ada)\n",
        "recall = recall_score(y_test, predicition_randomFlorest_ada)\n",
        "f1 = f1_score(y_test, predicition_randomFlorest_ada)\n",
        "print(\"precision :\",precision, \"Recall :\",recall,\"F-score :\",f1)"
      ],
      "metadata": {
        "id": "kdGvQwUOQmAA",
        "colab": {
          "base_uri": "https://localhost:8080/"
        },
        "outputId": "2276addd-7a2b-4fa5-d078-0776295a383f"
      },
      "execution_count": 99,
      "outputs": [
        {
          "output_type": "stream",
          "name": "stdout",
          "text": [
            "precision : 0.9272727272727272 Recall : 0.75 F-score : 0.8292682926829268\n"
          ]
        }
      ]
    },
    {
      "cell_type": "code",
      "source": [
        "logReg = LogisticRegression(max_iter=7600)\n",
        "\n",
        "logReg.fit(X_train, y_train)\n",
        "\n",
        "log_y_pred = logReg.predict(X_test)\n",
        "\n",
        "log_precision = precision_score(y_test, log_y_pred)\n",
        "log_recall = recall_score(y_test, log_y_pred)\n",
        "log_f1 = f1_score(y_test, log_y_pred)\n",
        "print(\"precision :\",log_precision, \"Recall :\",log_recall,\"F-score :\",log_f1)"
      ],
      "metadata": {
        "id": "IkmU7n9oo-Ta",
        "colab": {
          "base_uri": "https://localhost:8080/"
        },
        "outputId": "9a4d0a97-dab5-4b07-9be7-badf28e8ab58"
      },
      "execution_count": 100,
      "outputs": [
        {
          "output_type": "stream",
          "name": "stdout",
          "text": [
            "precision : 0.8666666666666667 Recall : 0.5735294117647058 F-score : 0.6902654867256638\n"
          ]
        }
      ]
    },
    {
      "cell_type": "code",
      "source": [
        "logReg_rus = LogisticRegression()\n",
        "\n",
        "logReg_rus.fit(X_rus, y_rus)\n",
        "\n",
        "log_y_pred_rus = logReg_rus.predict(X_test)\n",
        "\n",
        "log_precision = precision_score(y_test, log_y_pred_rus)\n",
        "log_recall = recall_score(y_test, log_y_pred_rus)\n",
        "log_f1 = f1_score(y_test, log_y_pred)\n",
        "print(\"precision :\",log_precision, \"Recall :\",log_recall,\"F-score :\",log_f1)"
      ],
      "metadata": {
        "id": "0RjHG9rpQ9MQ",
        "colab": {
          "base_uri": "https://localhost:8080/"
        },
        "outputId": "550ff715-4a13-4c2f-e816-4d029b771942"
      },
      "execution_count": 101,
      "outputs": [
        {
          "output_type": "stream",
          "name": "stdout",
          "text": [
            "precision : 0.05267702936096719 Recall : 0.8970588235294118 F-score : 0.6902654867256638\n"
          ]
        }
      ]
    },
    {
      "cell_type": "code",
      "source": [
        "model_log_smo = LogisticRegression(max_iter=7600)\n",
        "model_log_smo.fit(X_smo, y_smo)\n",
        "y_pred_smo = model_log_smo.predict(X_test)\n",
        "\n",
        "log_precision = precision_score(y_test, y_pred_smo)\n",
        "log_recall = recall_score(y_test, y_pred_smo)\n",
        "log_f1 = f1_score(y_test, y_pred_smo)\n",
        "print(\"precision :\",log_precision, \"Recall :\",log_recall,\"F-score :\",log_f1)"
      ],
      "metadata": {
        "id": "jMkSL1-jRU5Z",
        "colab": {
          "base_uri": "https://localhost:8080/"
        },
        "outputId": "74aed224-919c-4162-fa67-b17638e8cc16"
      },
      "execution_count": 102,
      "outputs": [
        {
          "output_type": "stream",
          "name": "stdout",
          "text": [
            "precision : 0.09259259259259259 Recall : 0.8823529411764706 F-score : 0.16759776536312848\n"
          ]
        }
      ]
    },
    {
      "cell_type": "code",
      "source": [
        "model_log_ada = LogisticRegression(max_iter=7600)\n",
        "model_log_ada.fit(X_ada, y_ada)\n",
        "y_pred_ada = model_log_ada.predict(X_test)\n",
        "\n",
        "log_precision = precision_score(y_test, y_pred_ada)\n",
        "log_recall = recall_score(y_test, y_pred_ada)\n",
        "log_f1 = f1_score(y_test, y_pred_ada)\n",
        "print(\"precision :\",log_precision, \"Recall :\",log_recall,\"F-score :\",log_f1)"
      ],
      "metadata": {
        "id": "13C9p6dQRmNo",
        "colab": {
          "base_uri": "https://localhost:8080/"
        },
        "outputId": "24793d26-f351-4477-9eac-2dca6cfe7610"
      },
      "execution_count": 103,
      "outputs": [
        {
          "output_type": "stream",
          "name": "stdout",
          "text": [
            "precision : 0.04155124653739612 Recall : 0.8823529411764706 F-score : 0.07936507936507936\n"
          ]
        }
      ]
    },
    {
      "cell_type": "code",
      "source": [
        "\n",
        "\n",
        "model = Sequential()\n",
        "\n",
        "model.add(Dense(64,input_dim=30,activation='relu'))\n",
        "model.add(Dense(32, activation = 'relu'))\n",
        "model.add(Dropout(0.5))\n",
        "model.add(Dense(16,activation = 'relu'))\n",
        "model.add(Dropout(0.15))\n",
        "model.add(Dense(1, activation = 'sigmoid'))\n",
        "\n",
        "opt = Adam(learning_rate=1e-4, decay=1e-6)\n",
        "\n",
        "model.compile(loss=\"binary_crossentropy\",optimizer=opt,metrics=['Precision','Recall'])\n",
        "\n",
        "model.fit(X_train, y_train, epochs = 5,\\\n",
        "                    validation_data = (X_test, y_test))\n"
      ],
      "metadata": {
        "id": "CxruekJuqGvb",
        "colab": {
          "base_uri": "https://localhost:8080/"
        },
        "outputId": "88b403cc-6d3c-47ff-96a3-2fff9d35e228"
      },
      "execution_count": 104,
      "outputs": [
        {
          "output_type": "stream",
          "name": "stdout",
          "text": [
            "Epoch 1/5\n",
            "2125/2125 [==============================] - 7s 3ms/step - loss: 0.2114 - precision: 0.0019 - recall: 0.0714 - val_loss: 0.0175 - val_precision: 0.0000e+00 - val_recall: 0.0000e+00\n",
            "Epoch 2/5\n",
            "2125/2125 [==============================] - 5s 2ms/step - loss: 0.0165 - precision: 0.2500 - recall: 0.0065 - val_loss: 0.0111 - val_precision: 0.0000e+00 - val_recall: 0.0000e+00\n",
            "Epoch 3/5\n",
            "2125/2125 [==============================] - 5s 3ms/step - loss: 0.0091 - precision: 0.1250 - recall: 0.0065 - val_loss: 0.0091 - val_precision: 0.0000e+00 - val_recall: 0.0000e+00\n",
            "Epoch 4/5\n",
            "2125/2125 [==============================] - 9s 4ms/step - loss: 0.0063 - precision: 0.7317 - recall: 0.1948 - val_loss: 0.0079 - val_precision: 0.8571 - val_recall: 0.4412\n",
            "Epoch 5/5\n",
            "2125/2125 [==============================] - 7s 3ms/step - loss: 0.0057 - precision: 0.7629 - recall: 0.4805 - val_loss: 0.0075 - val_precision: 0.8913 - val_recall: 0.6029\n"
          ]
        },
        {
          "output_type": "execute_result",
          "data": {
            "text/plain": [
              "<keras.callbacks.History at 0x7f891c1b9850>"
            ]
          },
          "metadata": {},
          "execution_count": 104
        }
      ]
    },
    {
      "cell_type": "code",
      "source": [
        "predicition_neuralNetWork =  model.predict(X_test)"
      ],
      "metadata": {
        "id": "niIHqUTU-vOx"
      },
      "execution_count": 105,
      "outputs": []
    },
    {
      "cell_type": "code",
      "source": [
        "\n",
        "\n",
        "precision_network = precision_score(y_test, predicition_neuralNetWork.round())\n",
        "recall_network = recall_score(y_test, predicition_neuralNetWork.round())\n",
        "f1_network = f1_score(y_test, predicition_neuralNetWork.round())\n",
        "print(\"precision :\",precision_network, \"Recall :\",recall_network,\"F-score :\",f1_network)"
      ],
      "metadata": {
        "id": "-rkJMbqN-rXK",
        "colab": {
          "base_uri": "https://localhost:8080/"
        },
        "outputId": "c6cf852b-c246-4309-d6c6-ed9d412132bc"
      },
      "execution_count": 108,
      "outputs": [
        {
          "output_type": "stream",
          "name": "stdout",
          "text": [
            "precision : 0.8913043478260869 Recall : 0.6029411764705882 F-score : 0.719298245614035\n"
          ]
        }
      ]
    },
    {
      "cell_type": "code",
      "source": [
        "\n",
        "\n",
        "model_rus = Sequential()\n",
        "\n",
        "model_rus.add(Dense(64,input_dim=30,activation='relu'))\n",
        "model_rus.add(Dense(32, activation = 'relu'))\n",
        "model_rus.add(Dropout(0.5))\n",
        "model_rus.add(Dense(16,activation = 'relu'))\n",
        "model_rus.add(Dropout(0.15))\n",
        "model_rus.add(Dense(1, activation = 'sigmoid'))\n",
        "\n",
        "opt = Adam(learning_rate=1e-4, decay=1e-6)\n",
        "\n",
        "model_rus.compile(loss=\"binary_crossentropy\",optimizer=opt,metrics=['Precision','Recall'])\n",
        "\n",
        "model_rus.fit(X_rus, y_rus, epochs = 5,\\\n",
        "                    validation_data = (X_test, y_test))"
      ],
      "metadata": {
        "id": "k5lJg0gDcI0K",
        "colab": {
          "base_uri": "https://localhost:8080/"
        },
        "outputId": "9599d098-dc64-4af0-f4a6-58935e14194e"
      },
      "execution_count": 109,
      "outputs": [
        {
          "output_type": "stream",
          "name": "stdout",
          "text": [
            "Epoch 1/5\n",
            "10/10 [==============================] - 2s 150ms/step - loss: 0.8657 - precision: 0.5679 - recall: 0.2987 - val_loss: 0.5753 - val_precision: 0.0151 - val_recall: 0.3824\n",
            "Epoch 2/5\n",
            "10/10 [==============================] - 1s 114ms/step - loss: 0.7391 - precision: 0.6786 - recall: 0.4935 - val_loss: 0.5781 - val_precision: 0.0199 - val_recall: 0.5441\n",
            "Epoch 3/5\n",
            "10/10 [==============================] - 1s 144ms/step - loss: 0.7224 - precision: 0.6583 - recall: 0.5130 - val_loss: 0.5795 - val_precision: 0.0248 - val_recall: 0.7059\n",
            "Epoch 4/5\n",
            "10/10 [==============================] - 1s 111ms/step - loss: 0.6716 - precision: 0.7661 - recall: 0.6169 - val_loss: 0.5807 - val_precision: 0.0250 - val_recall: 0.7353\n",
            "Epoch 5/5\n",
            "10/10 [==============================] - 1s 114ms/step - loss: 0.5739 - precision: 0.7718 - recall: 0.7468 - val_loss: 0.5807 - val_precision: 0.0252 - val_recall: 0.7500\n"
          ]
        },
        {
          "output_type": "execute_result",
          "data": {
            "text/plain": [
              "<keras.callbacks.History at 0x7f8920920290>"
            ]
          },
          "metadata": {},
          "execution_count": 109
        }
      ]
    },
    {
      "cell_type": "code",
      "source": [
        "predicition_neuralNetWork_rus =  model_rus.predict(X_test)"
      ],
      "metadata": {
        "id": "VIIWU8GCca2B"
      },
      "execution_count": 110,
      "outputs": []
    },
    {
      "cell_type": "code",
      "source": [
        "\n",
        "precision_network = precision_score(y_test, predicition_neuralNetWork_rus.round())\n",
        "recall_network = recall_score(y_test,  predicition_neuralNetWork_rus.round())\n",
        "f1_network = f1_score(y_test,  predicition_neuralNetWork_rus.round())\n",
        "print(\"precision :\",precision_network, \"Recall :\",recall_network,\"F-score :\",f1_network)"
      ],
      "metadata": {
        "id": "Bu0TMyDfcew2",
        "colab": {
          "base_uri": "https://localhost:8080/"
        },
        "outputId": "16efc9a2-1932-414e-85ae-213c3069271d"
      },
      "execution_count": 111,
      "outputs": [
        {
          "output_type": "stream",
          "name": "stdout",
          "text": [
            "precision : 0.025172754195459033 Recall : 0.75 F-score : 0.04871060171919771\n"
          ]
        }
      ]
    },
    {
      "cell_type": "code",
      "source": [
        "\n",
        "\n",
        "model_smo = Sequential()\n",
        "\n",
        "model_smo.add(Dense(64,input_dim=30,activation='relu'))\n",
        "model_smo.add(Dense(32, activation = 'relu'))\n",
        "model_smo.add(Dropout(0.5))\n",
        "model_smo.add(Dense(16,activation = 'relu'))\n",
        "model_smo.add(Dropout(0.15))\n",
        "model_smo.add(Dense(1, activation = 'sigmoid'))\n",
        "\n",
        "opt = Adam(learning_rate=1e-4, decay=1e-6)\n",
        "\n",
        "model_smo.compile(loss=\"binary_crossentropy\",optimizer=opt,metrics=['Precision','Recall'])\n",
        "\n",
        "model_smo.fit(X_smo, y_smo, epochs = 5,\\\n",
        "                    validation_data = (X_test, y_test))"
      ],
      "metadata": {
        "id": "zRJ1zvWiOAX2",
        "colab": {
          "base_uri": "https://localhost:8080/"
        },
        "outputId": "0f1b6746-38f1-4f8b-af9b-fd29edc49e5c"
      },
      "execution_count": 112,
      "outputs": [
        {
          "output_type": "stream",
          "name": "stdout",
          "text": [
            "Epoch 1/5\n",
            "4241/4241 [==============================] - 10s 2ms/step - loss: 0.1426 - precision: 0.9565 - recall: 0.9356 - val_loss: 0.0293 - val_precision: 0.1681 - val_recall: 0.8676\n",
            "Epoch 2/5\n",
            "4241/4241 [==============================] - 9s 2ms/step - loss: 0.0309 - precision: 0.9926 - recall: 0.9923 - val_loss: 0.0155 - val_precision: 0.4029 - val_recall: 0.8235\n",
            "Epoch 3/5\n",
            "4241/4241 [==============================] - 10s 2ms/step - loss: 0.0164 - precision: 0.9961 - recall: 0.9988 - val_loss: 0.0154 - val_precision: 0.4453 - val_recall: 0.8382\n",
            "Epoch 4/5\n",
            "4241/4241 [==============================] - 9s 2ms/step - loss: 0.0105 - precision: 0.9974 - recall: 0.9997 - val_loss: 0.0150 - val_precision: 0.5700 - val_recall: 0.8382\n",
            "Epoch 5/5\n",
            "4241/4241 [==============================] - 9s 2ms/step - loss: 0.0078 - precision: 0.9981 - recall: 0.9997 - val_loss: 0.0144 - val_precision: 0.6548 - val_recall: 0.8088\n"
          ]
        },
        {
          "output_type": "execute_result",
          "data": {
            "text/plain": [
              "<keras.callbacks.History at 0x7f8916834950>"
            ]
          },
          "metadata": {},
          "execution_count": 112
        }
      ]
    },
    {
      "cell_type": "code",
      "source": [
        "predicition_neuralNetWork_smo =  model_smo.predict(X_test)\n",
        "\n",
        "precision_network = precision_score(y_test, predicition_neuralNetWork_smo.round())\n",
        "recall_network = recall_score(y_test, predicition_neuralNetWork_smo.round())\n",
        "f1_network = f1_score(y_test, predicition_neuralNetWork_smo.round())\n",
        "print(\"precision :\",precision_network, \"Recall :\",recall_network,\"F-score :\",f1_network)"
      ],
      "metadata": {
        "id": "emHPxtQ8OZat",
        "colab": {
          "base_uri": "https://localhost:8080/"
        },
        "outputId": "bc7f6769-f51f-447f-e01e-86de48de60cd"
      },
      "execution_count": 113,
      "outputs": [
        {
          "output_type": "stream",
          "name": "stdout",
          "text": [
            "precision : 0.6547619047619048 Recall : 0.8088235294117647 F-score : 0.7236842105263157\n"
          ]
        }
      ]
    },
    {
      "cell_type": "code",
      "source": [
        "\n",
        "model_ada = Sequential()\n",
        "\n",
        "model_ada.add(Dense(64,input_dim=30,activation='relu'))\n",
        "model_ada.add(Dense(32, activation = 'relu'))\n",
        "model_ada.add(Dropout(0.5))\n",
        "model_ada.add(Dense(16,activation = 'relu'))\n",
        "model_ada.add(Dropout(0.15))\n",
        "model_ada.add(Dense(1, activation = 'sigmoid'))\n",
        "\n",
        "opt = Adam(learning_rate=1e-4, decay=1e-6)\n",
        "\n",
        "model_ada.compile(loss=\"binary_crossentropy\",optimizer=opt,metrics=['Precision','Recall'])\n",
        "\n",
        "model_ada.fit(X_ada, y_ada, epochs = 5,\\\n",
        "                    validation_data = (X_test, y_test))"
      ],
      "metadata": {
        "id": "ovEuFqQBOBnE",
        "colab": {
          "base_uri": "https://localhost:8080/"
        },
        "outputId": "2c6874f5-2649-421c-dec9-c12ce0b7060b"
      },
      "execution_count": 114,
      "outputs": [
        {
          "output_type": "stream",
          "name": "stdout",
          "text": [
            "Epoch 1/5\n",
            "4240/4240 [==============================] - 10s 2ms/step - loss: 0.2000 - precision: 0.9346 - recall: 0.9104 - val_loss: 0.0351 - val_precision: 0.1497 - val_recall: 0.8676\n",
            "Epoch 2/5\n",
            "4240/4240 [==============================] - 9s 2ms/step - loss: 0.0319 - precision: 0.9906 - recall: 0.9985 - val_loss: 0.0183 - val_precision: 0.3654 - val_recall: 0.8382\n",
            "Epoch 3/5\n",
            "4240/4240 [==============================] - 9s 2ms/step - loss: 0.0153 - precision: 0.9955 - recall: 0.9997 - val_loss: 0.0146 - val_precision: 0.5455 - val_recall: 0.7941\n",
            "Epoch 4/5\n",
            "4240/4240 [==============================] - 9s 2ms/step - loss: 0.0094 - precision: 0.9973 - recall: 0.9998 - val_loss: 0.0148 - val_precision: 0.6067 - val_recall: 0.7941\n",
            "Epoch 5/5\n",
            "4240/4240 [==============================] - 9s 2ms/step - loss: 0.0071 - precision: 0.9981 - recall: 0.9999 - val_loss: 0.0160 - val_precision: 0.6923 - val_recall: 0.7941\n"
          ]
        },
        {
          "output_type": "execute_result",
          "data": {
            "text/plain": [
              "<keras.callbacks.History at 0x7f8917d716d0>"
            ]
          },
          "metadata": {},
          "execution_count": 114
        }
      ]
    },
    {
      "cell_type": "code",
      "source": [
        "predicition_neuralNetWork_ada =  model_ada.predict(X_test)"
      ],
      "metadata": {
        "id": "K5GkqdltOgic"
      },
      "execution_count": 115,
      "outputs": []
    },
    {
      "cell_type": "code",
      "source": [
        "\n",
        "precision_network = precision_score(y_test, predicition_neuralNetWork_ada.round())\n",
        "recall_network = recall_score(y_test, predicition_neuralNetWork_ada.round())\n",
        "f1_network = f1_score(y_test, predicition_neuralNetWork_ada.round())\n",
        "print(\"precision :\",precision_network, \"Recall :\",recall_network,\"F-score :\",f1_network)"
      ],
      "metadata": {
        "id": "hBXk8i-1OucZ",
        "colab": {
          "base_uri": "https://localhost:8080/"
        },
        "outputId": "daaffef0-a765-4917-b8f3-508bc4b16d93"
      },
      "execution_count": 116,
      "outputs": [
        {
          "output_type": "stream",
          "name": "stdout",
          "text": [
            "precision : 0.6923076923076923 Recall : 0.7941176470588235 F-score : 0.7397260273972601\n"
          ]
        }
      ]
    }
  ]
}