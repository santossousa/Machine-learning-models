{
  "nbformat": 4,
  "nbformat_minor": 0,
  "metadata": {
    "colab": {
      "name": "lstm for classification of text.ipynb",
      "provenance": []
    },
    "kernelspec": {
      "name": "python3",
      "display_name": "Python 3"
    },
    "language_info": {
      "name": "python"
    }
  },
  "cells": [
    {
      "cell_type": "code",
      "execution_count": 15,
      "metadata": {
        "id": "ioHH6pfOj_bi"
      },
      "outputs": [],
      "source": [
        "import numpy as np\n",
        "from keras.datasets import imdb\n",
        "from keras.layers import Dense,LSTM,Embedding\n",
        "from keras.models import Sequential\n",
        "from keras.layers.core import Dense\n",
        "from keras.preprocessing.sequence import pad_sequences\n",
        "# fix random seed for reproducibility\n",
        "np.random.seed(7)\n",
        "from sklearn.metrics import classification_report\n",
        "# load the dataset but only keep the top 6000 words\n"
      ]
    },
    {
      "cell_type": "code",
      "source": [
        "(X_train, y_train), (X_test, y_test) = imdb.load_data(num_words=6000)\n",
        "# pad input sequences\n",
        "X_train = pad_sequences(X_train, maxlen=500)\n",
        "X_test = pad_sequences(X_test, maxlen=500)\n",
        "#model\n",
        "model = Sequential()\n",
        "model.add(Embedding(6000, 32, input_length=500))\n",
        "model.add(LSTM(100))\n",
        "model.add(Dense(1, activation='sigmoid'))\n",
        "model.compile(loss='binary_crossentropy', optimizer='adam', metrics=['accuracy'])\n",
        "print(model.summary())\n",
        "# Final evaluation of the model\n",
        "model.fit(X_train,y_train,validation_data=(X_test,y_test),epochs=3,batch_size=64)\n",
        "scores = model.evaluate(X_test, y_test, verbose=0)\n",
        "print(\"Accuracy: %.2f%%\" % (scores[1]*100))"
      ],
      "metadata": {
        "colab": {
          "base_uri": "https://localhost:8080/"
        },
        "id": "EUtV0udbkk0c",
        "outputId": "6420de7d-485a-45dd-e965-c04de945ca42"
      },
      "execution_count": 14,
      "outputs": [
        {
          "output_type": "stream",
          "name": "stdout",
          "text": [
            "Model: \"sequential_4\"\n",
            "_________________________________________________________________\n",
            " Layer (type)                Output Shape              Param #   \n",
            "=================================================================\n",
            " embedding_3 (Embedding)     (None, 500, 32)           192000    \n",
            "                                                                 \n",
            " lstm_3 (LSTM)               (None, 100)               53200     \n",
            "                                                                 \n",
            " dense_3 (Dense)             (None, 1)                 101       \n",
            "                                                                 \n",
            "=================================================================\n",
            "Total params: 245,301\n",
            "Trainable params: 245,301\n",
            "Non-trainable params: 0\n",
            "_________________________________________________________________\n",
            "None\n",
            "Epoch 1/3\n",
            "391/391 [==============================] - 246s 625ms/step - loss: 0.4542 - accuracy: 0.7767 - val_loss: 0.4175 - val_accuracy: 0.8142\n",
            "Epoch 2/3\n",
            "391/391 [==============================] - 242s 619ms/step - loss: 0.2959 - accuracy: 0.8809 - val_loss: 0.2983 - val_accuracy: 0.8776\n",
            "Epoch 3/3\n",
            "391/391 [==============================] - 242s 619ms/step - loss: 0.2545 - accuracy: 0.8986 - val_loss: 0.3238 - val_accuracy: 0.8720\n",
            "Accuracy: 87.20%\n"
          ]
        }
      ]
    }
  ]
}